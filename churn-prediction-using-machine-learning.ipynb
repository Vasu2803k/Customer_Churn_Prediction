{
 "cells": [
  {
   "cell_type": "markdown",
   "metadata": {
    "_cell_guid": "79c7e3d0-c299-4dcb-8224-4455121ee9b0",
    "_uuid": "d629ff2d2480ee46fbb7e2d37f6b5fab8052498a",
    "collapsed": true,
    "papermill": {
     "duration": 0.063197,
     "end_time": "2020-11-14T09:44:08.739722",
     "exception": false,
     "start_time": "2020-11-14T09:44:08.676525",
     "status": "completed"
    },
    "tags": []
   },
   "source": [
    "## Churn Prediction \n",
    "### A Machine Learning Model That Can Predict Customers Who Will Leave The Company\n",
    "\n",
    "The aim is to predict whether a bank's customers leave the bank or not. If the Client has closed his/her bank account, he/she has left.\n",
    "\n",
    "## Dataset\n",
    "\n",
    "- **RowNumber:** corresponds to the record (row) number and has no effect on the output.\n",
    "- **CustomerId:** contains random values and has no effect on customer leaving the bank.\n",
    "- **Surname:** the surname of a customer has no impact on their decision to leave the bank.\n",
    "- **CreditScore:** can have an effect on customer churn, since a customer with a higher credit score is less likely to leave the bank.\n",
    "- **Geography:** a customer’s location can affect their decision to leave the bank.\n",
    "- **Gender:** it’s interesting to explore whether gender plays a role in a customer leaving the bank.\n",
    "- **Age:** this is certainly relevant, since older customers are less likely to leave their bank than younger ones.\n",
    "- **Tenure:** refers to the number of years that the customer has been a client of the bank. Normally, older clients are more loyal and less likely to leave a bank.\n",
    "- **Balance:** also a very good indicator of customer churn, as people with a higher balance in their accounts are less likely to leave the bank compared to those with lower balances.\n",
    "- **NumOfProducts:** refers to the number of products that a customer has purchased through the bank.\n",
    "- **HasCrCard:** denotes whether or not a customer has a credit card. This column is also relevant, since people with a credit card are less likely to leave the bank.\n",
    "- **IsActiveMember:** active customers are less likely to leave the bank.\n",
    "- **EstimatedSalary:** as with balance, people with lower salaries are more likely to leave the bank compared to those with higher salaries.\n",
    "- **Exited:** whether or not the customer left the bank.  (0=No,1=Yes)\n",
    "\n",
    "\n",
    "\n",
    "### The model created as a result of LightGBM hyperparameter optimization (0.867300)"
   ]
  },
  {
   "cell_type": "code",
   "execution_count": 1,
   "metadata": {
    "execution": {
     "iopub.execute_input": "2020-11-14T09:44:08.884405Z",
     "iopub.status.busy": "2020-11-14T09:44:08.883534Z",
     "iopub.status.idle": "2020-11-14T09:44:11.192457Z",
     "shell.execute_reply": "2020-11-14T09:44:11.193118Z"
    },
    "papermill": {
     "duration": 2.392147,
     "end_time": "2020-11-14T09:44:11.193364",
     "exception": false,
     "start_time": "2020-11-14T09:44:08.801217",
     "status": "completed"
    },
    "tags": []
   },
   "outputs": [],
   "source": [
    "# loading necessary libraries\n",
    "import pandas as pd\n",
    "import numpy as np\n",
    "import seaborn as sns\n",
    "import matplotlib.pyplot as plt\n",
    "from matplotlib import pyplot\n",
    "from sklearn.model_selection import cross_val_predict\n",
    "from sklearn.metrics import confusion_matrix, classification_report, f1_score, precision_score, recall_score, roc_auc_score, roc_curve\n",
    "from sklearn.linear_model import LogisticRegression  \n",
    "from sklearn.neighbors import KNeighborsClassifier  \n",
    "from sklearn.svm import SVC\n",
    "from catboost import CatBoostClassifier\n",
    "from sklearn.ensemble import GradientBoostingClassifier\n",
    "from sklearn.tree import DecisionTreeClassifier \n",
    "from sklearn.ensemble import RandomForestClassifier\n",
    "from lightgbm import LGBMClassifier\n",
    "from sklearn.model_selection import train_test_split\n",
    "from sklearn import preprocessing\n",
    "from sklearn.metrics import accuracy_score,recall_score\n",
    "from xgboost import XGBClassifier\n",
    "from sklearn.model_selection import KFold\n",
    "from sklearn.model_selection import cross_val_score, GridSearchCV\n",
    "\n",
    "import warnings\n",
    "warnings.filterwarnings(\"ignore\", category=DeprecationWarning) \n",
    "warnings.filterwarnings(\"ignore\", category=FutureWarning) \n",
    "warnings.filterwarnings(\"ignore\", category=UserWarning) \n",
    "\n",
    "%config InlineBackend.figure_format = 'retina'\n",
    "\n",
    "# to display all columns and rows:\n",
    "pd.set_option('display.max_columns', None); pd.set_option('display.max_rows', None);"
   ]
  },
  {
   "cell_type": "code",
   "execution_count": 2,
   "metadata": {
    "execution": {
     "iopub.execute_input": "2020-11-14T09:44:11.325359Z",
     "iopub.status.busy": "2020-11-14T09:44:11.324533Z",
     "iopub.status.idle": "2020-11-14T09:44:11.369421Z",
     "shell.execute_reply": "2020-11-14T09:44:11.368640Z"
    },
    "papermill": {
     "duration": 0.11461,
     "end_time": "2020-11-14T09:44:11.369546",
     "exception": false,
     "start_time": "2020-11-14T09:44:11.254936",
     "status": "completed"
    },
    "tags": []
   },
   "outputs": [],
   "source": [
    "# reading the data\n",
    "df = pd.read_csv(\"../input/churn-for-bank-customers/churn.csv\", index_col=0)"
   ]
  },
  {
   "cell_type": "markdown",
   "metadata": {
    "papermill": {
     "duration": 0.060614,
     "end_time": "2020-11-14T09:44:11.491913",
     "exception": false,
     "start_time": "2020-11-14T09:44:11.431299",
     "status": "completed"
    },
    "tags": []
   },
   "source": [
    "# 1- EDA"
   ]
  },
  {
   "cell_type": "code",
   "execution_count": 3,
   "metadata": {
    "execution": {
     "iopub.execute_input": "2020-11-14T09:44:11.628797Z",
     "iopub.status.busy": "2020-11-14T09:44:11.628011Z",
     "iopub.status.idle": "2020-11-14T09:44:11.640750Z",
     "shell.execute_reply": "2020-11-14T09:44:11.641366Z"
    },
    "papermill": {
     "duration": 0.088261,
     "end_time": "2020-11-14T09:44:11.641516",
     "exception": false,
     "start_time": "2020-11-14T09:44:11.553255",
     "status": "completed"
    },
    "tags": []
   },
   "outputs": [
    {
     "data": {
      "text/html": [
       "<div>\n",
       "<style scoped>\n",
       "    .dataframe tbody tr th:only-of-type {\n",
       "        vertical-align: middle;\n",
       "    }\n",
       "\n",
       "    .dataframe tbody tr th {\n",
       "        vertical-align: top;\n",
       "    }\n",
       "\n",
       "    .dataframe thead th {\n",
       "        text-align: right;\n",
       "    }\n",
       "</style>\n",
       "<table border=\"1\" class=\"dataframe\">\n",
       "  <thead>\n",
       "    <tr style=\"text-align: right;\">\n",
       "      <th></th>\n",
       "      <th>CustomerId</th>\n",
       "      <th>Surname</th>\n",
       "      <th>CreditScore</th>\n",
       "      <th>Geography</th>\n",
       "      <th>Gender</th>\n",
       "      <th>Age</th>\n",
       "      <th>Tenure</th>\n",
       "      <th>Balance</th>\n",
       "      <th>NumOfProducts</th>\n",
       "      <th>HasCrCard</th>\n",
       "      <th>IsActiveMember</th>\n",
       "      <th>EstimatedSalary</th>\n",
       "      <th>Exited</th>\n",
       "    </tr>\n",
       "    <tr>\n",
       "      <th>RowNumber</th>\n",
       "      <th></th>\n",
       "      <th></th>\n",
       "      <th></th>\n",
       "      <th></th>\n",
       "      <th></th>\n",
       "      <th></th>\n",
       "      <th></th>\n",
       "      <th></th>\n",
       "      <th></th>\n",
       "      <th></th>\n",
       "      <th></th>\n",
       "      <th></th>\n",
       "      <th></th>\n",
       "    </tr>\n",
       "  </thead>\n",
       "  <tbody>\n",
       "    <tr>\n",
       "      <th>1</th>\n",
       "      <td>15634602</td>\n",
       "      <td>Hargrave</td>\n",
       "      <td>619</td>\n",
       "      <td>France</td>\n",
       "      <td>Female</td>\n",
       "      <td>42</td>\n",
       "      <td>2</td>\n",
       "      <td>0.00</td>\n",
       "      <td>1</td>\n",
       "      <td>1</td>\n",
       "      <td>1</td>\n",
       "      <td>101348.88</td>\n",
       "      <td>1</td>\n",
       "    </tr>\n",
       "    <tr>\n",
       "      <th>2</th>\n",
       "      <td>15647311</td>\n",
       "      <td>Hill</td>\n",
       "      <td>608</td>\n",
       "      <td>Spain</td>\n",
       "      <td>Female</td>\n",
       "      <td>41</td>\n",
       "      <td>1</td>\n",
       "      <td>83807.86</td>\n",
       "      <td>1</td>\n",
       "      <td>0</td>\n",
       "      <td>1</td>\n",
       "      <td>112542.58</td>\n",
       "      <td>0</td>\n",
       "    </tr>\n",
       "    <tr>\n",
       "      <th>3</th>\n",
       "      <td>15619304</td>\n",
       "      <td>Onio</td>\n",
       "      <td>502</td>\n",
       "      <td>France</td>\n",
       "      <td>Female</td>\n",
       "      <td>42</td>\n",
       "      <td>8</td>\n",
       "      <td>159660.80</td>\n",
       "      <td>3</td>\n",
       "      <td>1</td>\n",
       "      <td>0</td>\n",
       "      <td>113931.57</td>\n",
       "      <td>1</td>\n",
       "    </tr>\n",
       "    <tr>\n",
       "      <th>4</th>\n",
       "      <td>15701354</td>\n",
       "      <td>Boni</td>\n",
       "      <td>699</td>\n",
       "      <td>France</td>\n",
       "      <td>Female</td>\n",
       "      <td>39</td>\n",
       "      <td>1</td>\n",
       "      <td>0.00</td>\n",
       "      <td>2</td>\n",
       "      <td>0</td>\n",
       "      <td>0</td>\n",
       "      <td>93826.63</td>\n",
       "      <td>0</td>\n",
       "    </tr>\n",
       "    <tr>\n",
       "      <th>5</th>\n",
       "      <td>15737888</td>\n",
       "      <td>Mitchell</td>\n",
       "      <td>850</td>\n",
       "      <td>Spain</td>\n",
       "      <td>Female</td>\n",
       "      <td>43</td>\n",
       "      <td>2</td>\n",
       "      <td>125510.82</td>\n",
       "      <td>1</td>\n",
       "      <td>1</td>\n",
       "      <td>1</td>\n",
       "      <td>79084.10</td>\n",
       "      <td>0</td>\n",
       "    </tr>\n",
       "  </tbody>\n",
       "</table>\n",
       "</div>"
      ],
      "text/plain": [
       "           CustomerId   Surname  CreditScore Geography  Gender  Age  Tenure  \\\n",
       "RowNumber                                                                     \n",
       "1            15634602  Hargrave          619    France  Female   42       2   \n",
       "2            15647311      Hill          608     Spain  Female   41       1   \n",
       "3            15619304      Onio          502    France  Female   42       8   \n",
       "4            15701354      Boni          699    France  Female   39       1   \n",
       "5            15737888  Mitchell          850     Spain  Female   43       2   \n",
       "\n",
       "             Balance  NumOfProducts  HasCrCard  IsActiveMember  \\\n",
       "RowNumber                                                        \n",
       "1               0.00              1          1               1   \n",
       "2           83807.86              1          0               1   \n",
       "3          159660.80              3          1               0   \n",
       "4               0.00              2          0               0   \n",
       "5          125510.82              1          1               1   \n",
       "\n",
       "           EstimatedSalary  Exited  \n",
       "RowNumber                           \n",
       "1                101348.88       1  \n",
       "2                112542.58       0  \n",
       "3                113931.57       1  \n",
       "4                 93826.63       0  \n",
       "5                 79084.10       0  "
      ]
     },
     "execution_count": 3,
     "metadata": {},
     "output_type": "execute_result"
    }
   ],
   "source": [
    "# The first 5 observation \n",
    "df.head()"
   ]
  },
  {
   "cell_type": "code",
   "execution_count": 4,
   "metadata": {
    "execution": {
     "iopub.execute_input": "2020-11-14T09:44:11.773087Z",
     "iopub.status.busy": "2020-11-14T09:44:11.771957Z",
     "iopub.status.idle": "2020-11-14T09:44:11.776533Z",
     "shell.execute_reply": "2020-11-14T09:44:11.775911Z"
    },
    "papermill": {
     "duration": 0.072046,
     "end_time": "2020-11-14T09:44:11.776663",
     "exception": false,
     "start_time": "2020-11-14T09:44:11.704617",
     "status": "completed"
    },
    "tags": []
   },
   "outputs": [
    {
     "data": {
      "text/plain": [
       "(10000, 13)"
      ]
     },
     "execution_count": 4,
     "metadata": {},
     "output_type": "execute_result"
    }
   ],
   "source": [
    "# The size of the data set \n",
    "df.shape"
   ]
  },
  {
   "cell_type": "code",
   "execution_count": 5,
   "metadata": {
    "execution": {
     "iopub.execute_input": "2020-11-14T09:44:11.912497Z",
     "iopub.status.busy": "2020-11-14T09:44:11.907982Z",
     "iopub.status.idle": "2020-11-14T09:44:11.926578Z",
     "shell.execute_reply": "2020-11-14T09:44:11.925980Z"
    },
    "papermill": {
     "duration": 0.08679,
     "end_time": "2020-11-14T09:44:11.926713",
     "exception": false,
     "start_time": "2020-11-14T09:44:11.839923",
     "status": "completed"
    },
    "tags": []
   },
   "outputs": [
    {
     "name": "stdout",
     "output_type": "stream",
     "text": [
      "<class 'pandas.core.frame.DataFrame'>\n",
      "Int64Index: 10000 entries, 1 to 10000\n",
      "Data columns (total 13 columns):\n",
      " #   Column           Non-Null Count  Dtype  \n",
      "---  ------           --------------  -----  \n",
      " 0   CustomerId       10000 non-null  int64  \n",
      " 1   Surname          10000 non-null  object \n",
      " 2   CreditScore      10000 non-null  int64  \n",
      " 3   Geography        10000 non-null  object \n",
      " 4   Gender           10000 non-null  object \n",
      " 5   Age              10000 non-null  int64  \n",
      " 6   Tenure           10000 non-null  int64  \n",
      " 7   Balance          10000 non-null  float64\n",
      " 8   NumOfProducts    10000 non-null  int64  \n",
      " 9   HasCrCard        10000 non-null  int64  \n",
      " 10  IsActiveMember   10000 non-null  int64  \n",
      " 11  EstimatedSalary  10000 non-null  float64\n",
      " 12  Exited           10000 non-null  int64  \n",
      "dtypes: float64(2), int64(8), object(3)\n",
      "memory usage: 1.1+ MB\n"
     ]
    }
   ],
   "source": [
    "# Feature information\n",
    "df.info()"
   ]
  },
  {
   "cell_type": "code",
   "execution_count": 6,
   "metadata": {
    "execution": {
     "iopub.execute_input": "2020-11-14T09:44:12.066787Z",
     "iopub.status.busy": "2020-11-14T09:44:12.065991Z",
     "iopub.status.idle": "2020-11-14T09:44:12.113061Z",
     "shell.execute_reply": "2020-11-14T09:44:12.112327Z"
    },
    "papermill": {
     "duration": 0.120841,
     "end_time": "2020-11-14T09:44:12.113208",
     "exception": false,
     "start_time": "2020-11-14T09:44:11.992367",
     "status": "completed"
    },
    "tags": []
   },
   "outputs": [
    {
     "data": {
      "text/html": [
       "<div>\n",
       "<style scoped>\n",
       "    .dataframe tbody tr th:only-of-type {\n",
       "        vertical-align: middle;\n",
       "    }\n",
       "\n",
       "    .dataframe tbody tr th {\n",
       "        vertical-align: top;\n",
       "    }\n",
       "\n",
       "    .dataframe thead th {\n",
       "        text-align: right;\n",
       "    }\n",
       "</style>\n",
       "<table border=\"1\" class=\"dataframe\">\n",
       "  <thead>\n",
       "    <tr style=\"text-align: right;\">\n",
       "      <th></th>\n",
       "      <th>CustomerId</th>\n",
       "      <th>CreditScore</th>\n",
       "      <th>Age</th>\n",
       "      <th>Tenure</th>\n",
       "      <th>Balance</th>\n",
       "      <th>NumOfProducts</th>\n",
       "      <th>HasCrCard</th>\n",
       "      <th>IsActiveMember</th>\n",
       "      <th>EstimatedSalary</th>\n",
       "      <th>Exited</th>\n",
       "    </tr>\n",
       "  </thead>\n",
       "  <tbody>\n",
       "    <tr>\n",
       "      <th>count</th>\n",
       "      <td>1.000000e+04</td>\n",
       "      <td>10000.000000</td>\n",
       "      <td>10000.000000</td>\n",
       "      <td>10000.000000</td>\n",
       "      <td>10000.000000</td>\n",
       "      <td>10000.000000</td>\n",
       "      <td>10000.00000</td>\n",
       "      <td>10000.000000</td>\n",
       "      <td>10000.000000</td>\n",
       "      <td>10000.000000</td>\n",
       "    </tr>\n",
       "    <tr>\n",
       "      <th>mean</th>\n",
       "      <td>1.569094e+07</td>\n",
       "      <td>650.528800</td>\n",
       "      <td>38.921800</td>\n",
       "      <td>5.012800</td>\n",
       "      <td>76485.889288</td>\n",
       "      <td>1.530200</td>\n",
       "      <td>0.70550</td>\n",
       "      <td>0.515100</td>\n",
       "      <td>100090.239881</td>\n",
       "      <td>0.203700</td>\n",
       "    </tr>\n",
       "    <tr>\n",
       "      <th>std</th>\n",
       "      <td>7.193619e+04</td>\n",
       "      <td>96.653299</td>\n",
       "      <td>10.487806</td>\n",
       "      <td>2.892174</td>\n",
       "      <td>62397.405202</td>\n",
       "      <td>0.581654</td>\n",
       "      <td>0.45584</td>\n",
       "      <td>0.499797</td>\n",
       "      <td>57510.492818</td>\n",
       "      <td>0.402769</td>\n",
       "    </tr>\n",
       "    <tr>\n",
       "      <th>min</th>\n",
       "      <td>1.556570e+07</td>\n",
       "      <td>350.000000</td>\n",
       "      <td>18.000000</td>\n",
       "      <td>0.000000</td>\n",
       "      <td>0.000000</td>\n",
       "      <td>1.000000</td>\n",
       "      <td>0.00000</td>\n",
       "      <td>0.000000</td>\n",
       "      <td>11.580000</td>\n",
       "      <td>0.000000</td>\n",
       "    </tr>\n",
       "    <tr>\n",
       "      <th>5%</th>\n",
       "      <td>1.557882e+07</td>\n",
       "      <td>489.000000</td>\n",
       "      <td>25.000000</td>\n",
       "      <td>1.000000</td>\n",
       "      <td>0.000000</td>\n",
       "      <td>1.000000</td>\n",
       "      <td>0.00000</td>\n",
       "      <td>0.000000</td>\n",
       "      <td>9851.818500</td>\n",
       "      <td>0.000000</td>\n",
       "    </tr>\n",
       "    <tr>\n",
       "      <th>25%</th>\n",
       "      <td>1.562853e+07</td>\n",
       "      <td>584.000000</td>\n",
       "      <td>32.000000</td>\n",
       "      <td>3.000000</td>\n",
       "      <td>0.000000</td>\n",
       "      <td>1.000000</td>\n",
       "      <td>0.00000</td>\n",
       "      <td>0.000000</td>\n",
       "      <td>51002.110000</td>\n",
       "      <td>0.000000</td>\n",
       "    </tr>\n",
       "    <tr>\n",
       "      <th>50%</th>\n",
       "      <td>1.569074e+07</td>\n",
       "      <td>652.000000</td>\n",
       "      <td>37.000000</td>\n",
       "      <td>5.000000</td>\n",
       "      <td>97198.540000</td>\n",
       "      <td>1.000000</td>\n",
       "      <td>1.00000</td>\n",
       "      <td>1.000000</td>\n",
       "      <td>100193.915000</td>\n",
       "      <td>0.000000</td>\n",
       "    </tr>\n",
       "    <tr>\n",
       "      <th>75%</th>\n",
       "      <td>1.575323e+07</td>\n",
       "      <td>718.000000</td>\n",
       "      <td>44.000000</td>\n",
       "      <td>7.000000</td>\n",
       "      <td>127644.240000</td>\n",
       "      <td>2.000000</td>\n",
       "      <td>1.00000</td>\n",
       "      <td>1.000000</td>\n",
       "      <td>149388.247500</td>\n",
       "      <td>0.000000</td>\n",
       "    </tr>\n",
       "    <tr>\n",
       "      <th>90%</th>\n",
       "      <td>1.579083e+07</td>\n",
       "      <td>778.000000</td>\n",
       "      <td>53.000000</td>\n",
       "      <td>9.000000</td>\n",
       "      <td>149244.792000</td>\n",
       "      <td>2.000000</td>\n",
       "      <td>1.00000</td>\n",
       "      <td>1.000000</td>\n",
       "      <td>179674.704000</td>\n",
       "      <td>1.000000</td>\n",
       "    </tr>\n",
       "    <tr>\n",
       "      <th>95%</th>\n",
       "      <td>1.580303e+07</td>\n",
       "      <td>812.000000</td>\n",
       "      <td>60.000000</td>\n",
       "      <td>9.000000</td>\n",
       "      <td>162711.669000</td>\n",
       "      <td>2.000000</td>\n",
       "      <td>1.00000</td>\n",
       "      <td>1.000000</td>\n",
       "      <td>190155.375500</td>\n",
       "      <td>1.000000</td>\n",
       "    </tr>\n",
       "    <tr>\n",
       "      <th>99%</th>\n",
       "      <td>1.581311e+07</td>\n",
       "      <td>850.000000</td>\n",
       "      <td>72.000000</td>\n",
       "      <td>10.000000</td>\n",
       "      <td>185967.985400</td>\n",
       "      <td>3.000000</td>\n",
       "      <td>1.00000</td>\n",
       "      <td>1.000000</td>\n",
       "      <td>198069.734500</td>\n",
       "      <td>1.000000</td>\n",
       "    </tr>\n",
       "    <tr>\n",
       "      <th>max</th>\n",
       "      <td>1.581569e+07</td>\n",
       "      <td>850.000000</td>\n",
       "      <td>92.000000</td>\n",
       "      <td>10.000000</td>\n",
       "      <td>250898.090000</td>\n",
       "      <td>4.000000</td>\n",
       "      <td>1.00000</td>\n",
       "      <td>1.000000</td>\n",
       "      <td>199992.480000</td>\n",
       "      <td>1.000000</td>\n",
       "    </tr>\n",
       "  </tbody>\n",
       "</table>\n",
       "</div>"
      ],
      "text/plain": [
       "         CustomerId   CreditScore           Age        Tenure        Balance  \\\n",
       "count  1.000000e+04  10000.000000  10000.000000  10000.000000   10000.000000   \n",
       "mean   1.569094e+07    650.528800     38.921800      5.012800   76485.889288   \n",
       "std    7.193619e+04     96.653299     10.487806      2.892174   62397.405202   \n",
       "min    1.556570e+07    350.000000     18.000000      0.000000       0.000000   \n",
       "5%     1.557882e+07    489.000000     25.000000      1.000000       0.000000   \n",
       "25%    1.562853e+07    584.000000     32.000000      3.000000       0.000000   \n",
       "50%    1.569074e+07    652.000000     37.000000      5.000000   97198.540000   \n",
       "75%    1.575323e+07    718.000000     44.000000      7.000000  127644.240000   \n",
       "90%    1.579083e+07    778.000000     53.000000      9.000000  149244.792000   \n",
       "95%    1.580303e+07    812.000000     60.000000      9.000000  162711.669000   \n",
       "99%    1.581311e+07    850.000000     72.000000     10.000000  185967.985400   \n",
       "max    1.581569e+07    850.000000     92.000000     10.000000  250898.090000   \n",
       "\n",
       "       NumOfProducts    HasCrCard  IsActiveMember  EstimatedSalary  \\\n",
       "count   10000.000000  10000.00000    10000.000000     10000.000000   \n",
       "mean        1.530200      0.70550        0.515100    100090.239881   \n",
       "std         0.581654      0.45584        0.499797     57510.492818   \n",
       "min         1.000000      0.00000        0.000000        11.580000   \n",
       "5%          1.000000      0.00000        0.000000      9851.818500   \n",
       "25%         1.000000      0.00000        0.000000     51002.110000   \n",
       "50%         1.000000      1.00000        1.000000    100193.915000   \n",
       "75%         2.000000      1.00000        1.000000    149388.247500   \n",
       "90%         2.000000      1.00000        1.000000    179674.704000   \n",
       "95%         2.000000      1.00000        1.000000    190155.375500   \n",
       "99%         3.000000      1.00000        1.000000    198069.734500   \n",
       "max         4.000000      1.00000        1.000000    199992.480000   \n",
       "\n",
       "             Exited  \n",
       "count  10000.000000  \n",
       "mean       0.203700  \n",
       "std        0.402769  \n",
       "min        0.000000  \n",
       "5%         0.000000  \n",
       "25%        0.000000  \n",
       "50%        0.000000  \n",
       "75%        0.000000  \n",
       "90%        1.000000  \n",
       "95%        1.000000  \n",
       "99%        1.000000  \n",
       "max        1.000000  "
      ]
     },
     "execution_count": 6,
     "metadata": {},
     "output_type": "execute_result"
    }
   ],
   "source": [
    "# Descriptive statistics of the data set\n",
    "df.describe([0.05,0.25,0.50,0.75,0.90,0.95,0.99])"
   ]
  },
  {
   "cell_type": "code",
   "execution_count": 7,
   "metadata": {
    "execution": {
     "iopub.execute_input": "2020-11-14T09:44:12.248983Z",
     "iopub.status.busy": "2020-11-14T09:44:12.247977Z",
     "iopub.status.idle": "2020-11-14T09:44:12.260098Z",
     "shell.execute_reply": "2020-11-14T09:44:12.260659Z"
    },
    "papermill": {
     "duration": 0.083339,
     "end_time": "2020-11-14T09:44:12.260820",
     "exception": false,
     "start_time": "2020-11-14T09:44:12.177481",
     "status": "completed"
    },
    "tags": []
   },
   "outputs": [
    {
     "data": {
      "text/plain": [
       "['Geography',\n",
       " 'Gender',\n",
       " 'Tenure',\n",
       " 'NumOfProducts',\n",
       " 'HasCrCard',\n",
       " 'IsActiveMember']"
      ]
     },
     "execution_count": 7,
     "metadata": {},
     "output_type": "execute_result"
    }
   ],
   "source": [
    "# categorical Variables\n",
    "categorical_variables = [col for col in df.columns if col in \"O\"\n",
    "                        or df[col].nunique() <=11\n",
    "                        and col not in \"Exited\"]\n",
    "\n",
    "categorical_variables"
   ]
  },
  {
   "cell_type": "code",
   "execution_count": 8,
   "metadata": {
    "execution": {
     "iopub.execute_input": "2020-11-14T09:44:12.398689Z",
     "iopub.status.busy": "2020-11-14T09:44:12.397915Z",
     "iopub.status.idle": "2020-11-14T09:44:12.405820Z",
     "shell.execute_reply": "2020-11-14T09:44:12.405217Z"
    },
    "papermill": {
     "duration": 0.079013,
     "end_time": "2020-11-14T09:44:12.405952",
     "exception": false,
     "start_time": "2020-11-14T09:44:12.326939",
     "status": "completed"
    },
    "tags": []
   },
   "outputs": [
    {
     "data": {
      "text/plain": [
       "['CreditScore', 'Age', 'Balance', 'EstimatedSalary']"
      ]
     },
     "execution_count": 8,
     "metadata": {},
     "output_type": "execute_result"
    }
   ],
   "source": [
    "# Numeric Variables\n",
    "numeric_variables = [col for col in df.columns if df[col].dtype != \"object\"\n",
    "                        and df[col].nunique() >11\n",
    "                        and col not in \"CustomerId\"]\n",
    "numeric_variables"
   ]
  },
  {
   "cell_type": "markdown",
   "metadata": {
    "papermill": {
     "duration": 0.064755,
     "end_time": "2020-11-14T09:44:12.536359",
     "exception": false,
     "start_time": "2020-11-14T09:44:12.471604",
     "status": "completed"
    },
    "tags": []
   },
   "source": [
    "## Exited (Dependent Variable)"
   ]
  },
  {
   "cell_type": "code",
   "execution_count": 9,
   "metadata": {
    "execution": {
     "iopub.execute_input": "2020-11-14T09:44:12.675347Z",
     "iopub.status.busy": "2020-11-14T09:44:12.674470Z",
     "iopub.status.idle": "2020-11-14T09:44:12.678837Z",
     "shell.execute_reply": "2020-11-14T09:44:12.678258Z"
    },
    "papermill": {
     "duration": 0.077348,
     "end_time": "2020-11-14T09:44:12.678962",
     "exception": false,
     "start_time": "2020-11-14T09:44:12.601614",
     "status": "completed"
    },
    "tags": []
   },
   "outputs": [
    {
     "data": {
      "text/plain": [
       "0    7963\n",
       "1    2037\n",
       "Name: Exited, dtype: int64"
      ]
     },
     "execution_count": 9,
     "metadata": {},
     "output_type": "execute_result"
    }
   ],
   "source": [
    "# Frequency of classes of dependent variable\n",
    "df[\"Exited\"].value_counts()"
   ]
  },
  {
   "cell_type": "code",
   "execution_count": 10,
   "metadata": {
    "execution": {
     "iopub.execute_input": "2020-11-14T09:44:12.816282Z",
     "iopub.status.busy": "2020-11-14T09:44:12.815585Z",
     "iopub.status.idle": "2020-11-14T09:44:12.820357Z",
     "shell.execute_reply": "2020-11-14T09:44:12.820856Z"
    },
    "papermill": {
     "duration": 0.076171,
     "end_time": "2020-11-14T09:44:12.821002",
     "exception": false,
     "start_time": "2020-11-14T09:44:12.744831",
     "status": "completed"
    },
    "tags": []
   },
   "outputs": [],
   "source": [
    "# Customers leaving the bank\n",
    "churn = df.loc[df[\"Exited\"]==1]"
   ]
  },
  {
   "cell_type": "code",
   "execution_count": 11,
   "metadata": {
    "execution": {
     "iopub.execute_input": "2020-11-14T09:44:12.963801Z",
     "iopub.status.busy": "2020-11-14T09:44:12.962609Z",
     "iopub.status.idle": "2020-11-14T09:44:12.967938Z",
     "shell.execute_reply": "2020-11-14T09:44:12.968731Z"
    },
    "papermill": {
     "duration": 0.080952,
     "end_time": "2020-11-14T09:44:12.968924",
     "exception": false,
     "start_time": "2020-11-14T09:44:12.887972",
     "status": "completed"
    },
    "tags": []
   },
   "outputs": [],
   "source": [
    "# Customers who did not leave the bank\n",
    "not_churn = df.loc[df[\"Exited\"]==0]"
   ]
  },
  {
   "cell_type": "markdown",
   "metadata": {
    "papermill": {
     "duration": 0.074561,
     "end_time": "2020-11-14T09:44:13.124547",
     "exception": false,
     "start_time": "2020-11-14T09:44:13.049986",
     "status": "completed"
    },
    "tags": []
   },
   "source": [
    "# Categorical Variables"
   ]
  },
  {
   "cell_type": "markdown",
   "metadata": {
    "papermill": {
     "duration": 0.066323,
     "end_time": "2020-11-14T09:44:13.257270",
     "exception": false,
     "start_time": "2020-11-14T09:44:13.190947",
     "status": "completed"
    },
    "tags": []
   },
   "source": [
    "## Tenure"
   ]
  },
  {
   "cell_type": "code",
   "execution_count": 12,
   "metadata": {
    "execution": {
     "iopub.execute_input": "2020-11-14T09:44:13.399872Z",
     "iopub.status.busy": "2020-11-14T09:44:13.398846Z",
     "iopub.status.idle": "2020-11-14T09:44:13.403701Z",
     "shell.execute_reply": "2020-11-14T09:44:13.403102Z"
    },
    "papermill": {
     "duration": 0.079389,
     "end_time": "2020-11-14T09:44:13.403827",
     "exception": false,
     "start_time": "2020-11-14T09:44:13.324438",
     "status": "completed"
    },
    "tags": []
   },
   "outputs": [
    {
     "data": {
      "text/plain": [
       "0     318\n",
       "10    389\n",
       "6     771\n",
       "9     771\n",
       "4     786\n",
       "3     796\n",
       "5     803\n",
       "1     803\n",
       "8     828\n",
       "2     847\n",
       "7     851\n",
       "Name: Tenure, dtype: int64"
      ]
     },
     "execution_count": 12,
     "metadata": {},
     "output_type": "execute_result"
    }
   ],
   "source": [
    "# Frequency of not_churn group according to Tenure\n",
    "not_churn[\"Tenure\"].value_counts().sort_values()"
   ]
  },
  {
   "cell_type": "code",
   "execution_count": 13,
   "metadata": {
    "execution": {
     "iopub.execute_input": "2020-11-14T09:44:13.547201Z",
     "iopub.status.busy": "2020-11-14T09:44:13.546303Z",
     "iopub.status.idle": "2020-11-14T09:44:13.550599Z",
     "shell.execute_reply": "2020-11-14T09:44:13.549838Z"
    },
    "papermill": {
     "duration": 0.079747,
     "end_time": "2020-11-14T09:44:13.550720",
     "exception": false,
     "start_time": "2020-11-14T09:44:13.470973",
     "status": "completed"
    },
    "tags": []
   },
   "outputs": [
    {
     "data": {
      "text/plain": [
       "0      95\n",
       "10    101\n",
       "7     177\n",
       "6     196\n",
       "8     197\n",
       "2     201\n",
       "4     203\n",
       "5     209\n",
       "9     213\n",
       "3     213\n",
       "1     232\n",
       "Name: Tenure, dtype: int64"
      ]
     },
     "execution_count": 13,
     "metadata": {},
     "output_type": "execute_result"
    }
   ],
   "source": [
    "# Frequency of churn group according to Tenure\n",
    "churn[\"Tenure\"].value_counts().sort_values()"
   ]
  },
  {
   "cell_type": "markdown",
   "metadata": {
    "papermill": {
     "duration": 0.067958,
     "end_time": "2020-11-14T09:44:13.687430",
     "exception": false,
     "start_time": "2020-11-14T09:44:13.619472",
     "status": "completed"
    },
    "tags": []
   },
   "source": [
    "## NumOfProducts"
   ]
  },
  {
   "cell_type": "code",
   "execution_count": 14,
   "metadata": {
    "execution": {
     "iopub.execute_input": "2020-11-14T09:44:13.835649Z",
     "iopub.status.busy": "2020-11-14T09:44:13.834578Z",
     "iopub.status.idle": "2020-11-14T09:44:13.838528Z",
     "shell.execute_reply": "2020-11-14T09:44:13.839053Z"
    },
    "papermill": {
     "duration": 0.083156,
     "end_time": "2020-11-14T09:44:13.839239",
     "exception": false,
     "start_time": "2020-11-14T09:44:13.756083",
     "status": "completed"
    },
    "tags": []
   },
   "outputs": [
    {
     "data": {
      "text/plain": [
       "3      46\n",
       "1    3675\n",
       "2    4242\n",
       "Name: NumOfProducts, dtype: int64"
      ]
     },
     "execution_count": 14,
     "metadata": {},
     "output_type": "execute_result"
    }
   ],
   "source": [
    "# Frequency of not_churn group according to NumOfProducts\n",
    "not_churn[\"NumOfProducts\"].value_counts().sort_values()"
   ]
  },
  {
   "cell_type": "code",
   "execution_count": 15,
   "metadata": {
    "execution": {
     "iopub.execute_input": "2020-11-14T09:44:13.984719Z",
     "iopub.status.busy": "2020-11-14T09:44:13.983632Z",
     "iopub.status.idle": "2020-11-14T09:44:13.987845Z",
     "shell.execute_reply": "2020-11-14T09:44:13.987226Z"
    },
    "papermill": {
     "duration": 0.080671,
     "end_time": "2020-11-14T09:44:13.987977",
     "exception": false,
     "start_time": "2020-11-14T09:44:13.907306",
     "status": "completed"
    },
    "tags": []
   },
   "outputs": [
    {
     "data": {
      "text/plain": [
       "4      60\n",
       "3     220\n",
       "2     348\n",
       "1    1409\n",
       "Name: NumOfProducts, dtype: int64"
      ]
     },
     "execution_count": 15,
     "metadata": {},
     "output_type": "execute_result"
    }
   ],
   "source": [
    "# Frequency of churn group according to NumOfProducts\n",
    "churn[\"NumOfProducts\"].value_counts().sort_values()"
   ]
  },
  {
   "cell_type": "markdown",
   "metadata": {
    "papermill": {
     "duration": 0.068504,
     "end_time": "2020-11-14T09:44:14.126022",
     "exception": false,
     "start_time": "2020-11-14T09:44:14.057518",
     "status": "completed"
    },
    "tags": []
   },
   "source": [
    "## HasCrCard"
   ]
  },
  {
   "cell_type": "code",
   "execution_count": 16,
   "metadata": {
    "execution": {
     "iopub.execute_input": "2020-11-14T09:44:14.271725Z",
     "iopub.status.busy": "2020-11-14T09:44:14.270654Z",
     "iopub.status.idle": "2020-11-14T09:44:14.275106Z",
     "shell.execute_reply": "2020-11-14T09:44:14.274390Z"
    },
    "papermill": {
     "duration": 0.080613,
     "end_time": "2020-11-14T09:44:14.275258",
     "exception": false,
     "start_time": "2020-11-14T09:44:14.194645",
     "status": "completed"
    },
    "tags": []
   },
   "outputs": [
    {
     "data": {
      "text/plain": [
       "1    5631\n",
       "0    2332\n",
       "Name: HasCrCard, dtype: int64"
      ]
     },
     "execution_count": 16,
     "metadata": {},
     "output_type": "execute_result"
    }
   ],
   "source": [
    "# examining the HasCrCard of the not_churn group\n",
    "not_churn[\"HasCrCard\"].value_counts()"
   ]
  },
  {
   "cell_type": "code",
   "execution_count": 17,
   "metadata": {
    "execution": {
     "iopub.execute_input": "2020-11-14T09:44:14.422089Z",
     "iopub.status.busy": "2020-11-14T09:44:14.421375Z",
     "iopub.status.idle": "2020-11-14T09:44:14.425334Z",
     "shell.execute_reply": "2020-11-14T09:44:14.426007Z"
    },
    "papermill": {
     "duration": 0.081083,
     "end_time": "2020-11-14T09:44:14.426189",
     "exception": false,
     "start_time": "2020-11-14T09:44:14.345106",
     "status": "completed"
    },
    "tags": []
   },
   "outputs": [
    {
     "data": {
      "text/plain": [
       "1    1424\n",
       "0     613\n",
       "Name: HasCrCard, dtype: int64"
      ]
     },
     "execution_count": 17,
     "metadata": {},
     "output_type": "execute_result"
    }
   ],
   "source": [
    "# examining the HasCrCard of the churn group\n",
    "churn[\"HasCrCard\"].value_counts()"
   ]
  },
  {
   "cell_type": "markdown",
   "metadata": {
    "papermill": {
     "duration": 0.069575,
     "end_time": "2020-11-14T09:44:14.566243",
     "exception": false,
     "start_time": "2020-11-14T09:44:14.496668",
     "status": "completed"
    },
    "tags": []
   },
   "source": [
    "## IsActiveMember"
   ]
  },
  {
   "cell_type": "code",
   "execution_count": 18,
   "metadata": {
    "execution": {
     "iopub.execute_input": "2020-11-14T09:44:14.717584Z",
     "iopub.status.busy": "2020-11-14T09:44:14.716483Z",
     "iopub.status.idle": "2020-11-14T09:44:14.720762Z",
     "shell.execute_reply": "2020-11-14T09:44:14.720027Z"
    },
    "papermill": {
     "duration": 0.084647,
     "end_time": "2020-11-14T09:44:14.720883",
     "exception": false,
     "start_time": "2020-11-14T09:44:14.636236",
     "status": "completed"
    },
    "tags": []
   },
   "outputs": [
    {
     "data": {
      "text/plain": [
       "1    4416\n",
       "0    3547\n",
       "Name: IsActiveMember, dtype: int64"
      ]
     },
     "execution_count": 18,
     "metadata": {},
     "output_type": "execute_result"
    }
   ],
   "source": [
    "# examining the IsActiveMember of the not_churn group\n",
    "not_churn[\"IsActiveMember\"].value_counts()"
   ]
  },
  {
   "cell_type": "code",
   "execution_count": 19,
   "metadata": {
    "execution": {
     "iopub.execute_input": "2020-11-14T09:44:14.871217Z",
     "iopub.status.busy": "2020-11-14T09:44:14.870378Z",
     "iopub.status.idle": "2020-11-14T09:44:14.875117Z",
     "shell.execute_reply": "2020-11-14T09:44:14.874550Z"
    },
    "papermill": {
     "duration": 0.083388,
     "end_time": "2020-11-14T09:44:14.875272",
     "exception": false,
     "start_time": "2020-11-14T09:44:14.791884",
     "status": "completed"
    },
    "tags": []
   },
   "outputs": [
    {
     "data": {
      "text/plain": [
       "0    1302\n",
       "1     735\n",
       "Name: IsActiveMember, dtype: int64"
      ]
     },
     "execution_count": 19,
     "metadata": {},
     "output_type": "execute_result"
    }
   ],
   "source": [
    "# examining the IsActiveMember of the churn group\n",
    "churn[\"IsActiveMember\"].value_counts()"
   ]
  },
  {
   "cell_type": "markdown",
   "metadata": {
    "papermill": {
     "duration": 0.071264,
     "end_time": "2020-11-14T09:44:15.017873",
     "exception": false,
     "start_time": "2020-11-14T09:44:14.946609",
     "status": "completed"
    },
    "tags": []
   },
   "source": [
    "## Geography"
   ]
  },
  {
   "cell_type": "code",
   "execution_count": 20,
   "metadata": {
    "execution": {
     "iopub.execute_input": "2020-11-14T09:44:15.171656Z",
     "iopub.status.busy": "2020-11-14T09:44:15.170872Z",
     "iopub.status.idle": "2020-11-14T09:44:15.174991Z",
     "shell.execute_reply": "2020-11-14T09:44:15.175553Z"
    },
    "papermill": {
     "duration": 0.085791,
     "end_time": "2020-11-14T09:44:15.175724",
     "exception": false,
     "start_time": "2020-11-14T09:44:15.089933",
     "status": "completed"
    },
    "tags": []
   },
   "outputs": [
    {
     "data": {
      "text/plain": [
       "Germany    1695\n",
       "Spain      2064\n",
       "France     4204\n",
       "Name: Geography, dtype: int64"
      ]
     },
     "execution_count": 20,
     "metadata": {},
     "output_type": "execute_result"
    }
   ],
   "source": [
    "# Frequency of not_churn group according to Geography\n",
    "not_churn.Geography.value_counts().sort_values()"
   ]
  },
  {
   "cell_type": "code",
   "execution_count": 21,
   "metadata": {
    "execution": {
     "iopub.execute_input": "2020-11-14T09:44:15.329365Z",
     "iopub.status.busy": "2020-11-14T09:44:15.328526Z",
     "iopub.status.idle": "2020-11-14T09:44:15.332642Z",
     "shell.execute_reply": "2020-11-14T09:44:15.331930Z"
    },
    "papermill": {
     "duration": 0.084881,
     "end_time": "2020-11-14T09:44:15.332785",
     "exception": false,
     "start_time": "2020-11-14T09:44:15.247904",
     "status": "completed"
    },
    "tags": []
   },
   "outputs": [
    {
     "data": {
      "text/plain": [
       "Spain      413\n",
       "France     810\n",
       "Germany    814\n",
       "Name: Geography, dtype: int64"
      ]
     },
     "execution_count": 21,
     "metadata": {},
     "output_type": "execute_result"
    }
   ],
   "source": [
    "# Frequency of churn group according to Geography\n",
    "churn.Geography.value_counts().sort_values()"
   ]
  },
  {
   "cell_type": "markdown",
   "metadata": {
    "papermill": {
     "duration": 0.072268,
     "end_time": "2020-11-14T09:44:15.477453",
     "exception": false,
     "start_time": "2020-11-14T09:44:15.405185",
     "status": "completed"
    },
    "tags": []
   },
   "source": [
    "## Gender"
   ]
  },
  {
   "cell_type": "code",
   "execution_count": 22,
   "metadata": {
    "execution": {
     "iopub.execute_input": "2020-11-14T09:44:15.632564Z",
     "iopub.status.busy": "2020-11-14T09:44:15.631587Z",
     "iopub.status.idle": "2020-11-14T09:44:15.636344Z",
     "shell.execute_reply": "2020-11-14T09:44:15.635612Z"
    },
    "papermill": {
     "duration": 0.086619,
     "end_time": "2020-11-14T09:44:15.636468",
     "exception": false,
     "start_time": "2020-11-14T09:44:15.549849",
     "status": "completed"
    },
    "tags": []
   },
   "outputs": [
    {
     "data": {
      "text/plain": [
       "Male      4559\n",
       "Female    3404\n",
       "Name: Gender, dtype: int64"
      ]
     },
     "execution_count": 22,
     "metadata": {},
     "output_type": "execute_result"
    }
   ],
   "source": [
    "# Frequency of not_churn group according to Gender\n",
    "not_churn.Gender.value_counts()"
   ]
  },
  {
   "cell_type": "code",
   "execution_count": 23,
   "metadata": {
    "execution": {
     "iopub.execute_input": "2020-11-14T09:44:15.793487Z",
     "iopub.status.busy": "2020-11-14T09:44:15.792511Z",
     "iopub.status.idle": "2020-11-14T09:44:15.796557Z",
     "shell.execute_reply": "2020-11-14T09:44:15.797165Z"
    },
    "papermill": {
     "duration": 0.087009,
     "end_time": "2020-11-14T09:44:15.797331",
     "exception": false,
     "start_time": "2020-11-14T09:44:15.710322",
     "status": "completed"
    },
    "tags": []
   },
   "outputs": [
    {
     "data": {
      "text/plain": [
       "Female    1139\n",
       "Male       898\n",
       "Name: Gender, dtype: int64"
      ]
     },
     "execution_count": 23,
     "metadata": {},
     "output_type": "execute_result"
    }
   ],
   "source": [
    "# Frequency of churn group according to Gender\n",
    "churn.Gender.value_counts()"
   ]
  },
  {
   "cell_type": "markdown",
   "metadata": {
    "papermill": {
     "duration": 0.073875,
     "end_time": "2020-11-14T09:44:15.945759",
     "exception": false,
     "start_time": "2020-11-14T09:44:15.871884",
     "status": "completed"
    },
    "tags": []
   },
   "source": [
    "# Numerical Variables"
   ]
  },
  {
   "cell_type": "markdown",
   "metadata": {
    "papermill": {
     "duration": 0.074221,
     "end_time": "2020-11-14T09:44:16.094597",
     "exception": false,
     "start_time": "2020-11-14T09:44:16.020376",
     "status": "completed"
    },
    "tags": []
   },
   "source": [
    "## CreditScore"
   ]
  },
  {
   "cell_type": "code",
   "execution_count": 24,
   "metadata": {
    "execution": {
     "iopub.execute_input": "2020-11-14T09:44:16.293734Z",
     "iopub.status.busy": "2020-11-14T09:44:16.292972Z",
     "iopub.status.idle": "2020-11-14T09:44:16.301575Z",
     "shell.execute_reply": "2020-11-14T09:44:16.302108Z"
    },
    "papermill": {
     "duration": 0.089524,
     "end_time": "2020-11-14T09:44:16.302321",
     "exception": false,
     "start_time": "2020-11-14T09:44:16.212797",
     "status": "completed"
    },
    "tags": []
   },
   "outputs": [
    {
     "data": {
      "text/plain": [
       "count    7963.000000\n",
       "mean      651.853196\n",
       "std        95.653837\n",
       "min       405.000000\n",
       "5%        492.000000\n",
       "25%       585.000000\n",
       "50%       653.000000\n",
       "75%       718.000000\n",
       "90%       778.000000\n",
       "95%       812.000000\n",
       "99%       850.000000\n",
       "max       850.000000\n",
       "Name: CreditScore, dtype: float64"
      ]
     },
     "execution_count": 24,
     "metadata": {},
     "output_type": "execute_result"
    }
   ],
   "source": [
    "# Let's examine the credit score of the not_churn group\n",
    "not_churn[\"CreditScore\"].describe([0.05,0.25,0.50,0.75,0.90,0.95,0.99])"
   ]
  },
  {
   "cell_type": "code",
   "execution_count": 25,
   "metadata": {
    "execution": {
     "iopub.execute_input": "2020-11-14T09:44:16.463553Z",
     "iopub.status.busy": "2020-11-14T09:44:16.462821Z",
     "iopub.status.idle": "2020-11-14T09:44:16.735677Z",
     "shell.execute_reply": "2020-11-14T09:44:16.735006Z"
    },
    "papermill": {
     "duration": 0.358693,
     "end_time": "2020-11-14T09:44:16.735798",
     "exception": false,
     "start_time": "2020-11-14T09:44:16.377105",
     "status": "completed"
    },
    "tags": []
   },
   "outputs": [
    {
     "data": {
      "image/png": "[encoded data removed]",
      "text/plain": [
       "<Figure size 576x432 with 1 Axes>"
      ]
     },
     "metadata": {
      "image/png": {
       "height": 370,
       "width": 486
      },
      "needs_background": "light"
     },
     "output_type": "display_data"
    }
   ],
   "source": [
    "# distribution of the Credit Score for not_churn\n",
    "pyplot.figure(figsize=(8,6))\n",
    "pyplot.xlabel('CreditScore')\n",
    "pyplot.hist(not_churn[\"CreditScore\"],bins=15, alpha=0.7, label='Not Churn')\n",
    "pyplot.legend(loc='upper right')\n",
    "pyplot.show()"
   ]
  },
  {
   "cell_type": "code",
   "execution_count": 26,
   "metadata": {
    "execution": {
     "iopub.execute_input": "2020-11-14T09:44:16.894875Z",
     "iopub.status.busy": "2020-11-14T09:44:16.894057Z",
     "iopub.status.idle": "2020-11-14T09:44:16.902893Z",
     "shell.execute_reply": "2020-11-14T09:44:16.902273Z"
    },
    "papermill": {
     "duration": 0.091021,
     "end_time": "2020-11-14T09:44:16.903015",
     "exception": false,
     "start_time": "2020-11-14T09:44:16.811994",
     "status": "completed"
    },
    "tags": []
   },
   "outputs": [
    {
     "data": {
      "text/plain": [
       "count    2037.000000\n",
       "mean      645.351497\n",
       "std       100.321503\n",
       "min       350.000000\n",
       "5%        479.000000\n",
       "25%       578.000000\n",
       "50%       646.000000\n",
       "75%       716.000000\n",
       "90%       776.400000\n",
       "95%       812.200000\n",
       "99%       850.000000\n",
       "max       850.000000\n",
       "Name: CreditScore, dtype: float64"
      ]
     },
     "execution_count": 26,
     "metadata": {},
     "output_type": "execute_result"
    }
   ],
   "source": [
    "# Let's examine the credit score of the churn group\n",
    "churn[\"CreditScore\"].describe([0.05,0.25,0.50,0.75,0.90,0.95,0.99])"
   ]
  },
  {
   "cell_type": "code",
   "execution_count": 27,
   "metadata": {
    "execution": {
     "iopub.execute_input": "2020-11-14T09:44:17.068369Z",
     "iopub.status.busy": "2020-11-14T09:44:17.062769Z",
     "iopub.status.idle": "2020-11-14T09:44:17.299939Z",
     "shell.execute_reply": "2020-11-14T09:44:17.299196Z"
    },
    "papermill": {
     "duration": 0.320956,
     "end_time": "2020-11-14T09:44:17.300064",
     "exception": false,
     "start_time": "2020-11-14T09:44:16.979108",
     "status": "completed"
    },
    "tags": []
   },
   "outputs": [
    {
     "data": {
      "image/png": "[encoded data removed]",
      "text/plain": [
       "<Figure size 576x432 with 1 Axes>"
      ]
     },
     "metadata": {
      "image/png": {
       "height": 370,
       "width": 486
      },
      "needs_background": "light"
     },
     "output_type": "display_data"
    }
   ],
   "source": [
    "# distribution of the Credit Score for churn\n",
    "pyplot.figure(figsize=(8,6))\n",
    "pyplot.xlabel('CreditScore')\n",
    "pyplot.hist(churn[\"CreditScore\"],bins=15, alpha=0.8, label='Churn')\n",
    "pyplot.legend(loc='upper right')\n",
    "pyplot.show()"
   ]
  },
  {
   "cell_type": "code",
   "execution_count": 28,
   "metadata": {
    "execution": {
     "iopub.execute_input": "2020-11-14T09:44:17.461838Z",
     "iopub.status.busy": "2020-11-14T09:44:17.460786Z",
     "iopub.status.idle": "2020-11-14T09:44:17.879844Z",
     "shell.execute_reply": "2020-11-14T09:44:17.880490Z"
    },
    "papermill": {
     "duration": 0.503064,
     "end_time": "2020-11-14T09:44:17.880658",
     "exception": false,
     "start_time": "2020-11-14T09:44:17.377594",
     "status": "completed"
    },
    "tags": []
   },
   "outputs": [
    {
     "data": {
      "text/plain": [
       "<seaborn.axisgrid.FacetGrid at 0x7f8aecda7f90>"
      ]
     },
     "execution_count": 28,
     "metadata": {},
     "output_type": "execute_result"
    },
    {
     "data": {
      "image/png": "[encoded data removed]",
      "text/plain": [
       "<Figure size 360x360 with 1 Axes>"
      ]
     },
     "metadata": {
      "image/png": {
       "height": 351,
       "width": 352
      },
      "needs_background": "light"
     },
     "output_type": "display_data"
    }
   ],
   "source": [
    "sns.catplot(\"Exited\", \"CreditScore\", data = df)"
   ]
  },
  {
   "cell_type": "markdown",
   "metadata": {
    "papermill": {
     "duration": 0.080134,
     "end_time": "2020-11-14T09:44:18.043390",
     "exception": false,
     "start_time": "2020-11-14T09:44:17.963256",
     "status": "completed"
    },
    "tags": []
   },
   "source": [
    "## Age"
   ]
  },
  {
   "cell_type": "code",
   "execution_count": 29,
   "metadata": {
    "execution": {
     "iopub.execute_input": "2020-11-14T09:44:18.209951Z",
     "iopub.status.busy": "2020-11-14T09:44:18.209071Z",
     "iopub.status.idle": "2020-11-14T09:44:18.217633Z",
     "shell.execute_reply": "2020-11-14T09:44:18.218229Z"
    },
    "papermill": {
     "duration": 0.095055,
     "end_time": "2020-11-14T09:44:18.218398",
     "exception": false,
     "start_time": "2020-11-14T09:44:18.123343",
     "status": "completed"
    },
    "tags": []
   },
   "outputs": [
    {
     "data": {
      "text/plain": [
       "count    7963.000000\n",
       "mean       37.408389\n",
       "std        10.125363\n",
       "min        18.000000\n",
       "5%         24.000000\n",
       "25%        31.000000\n",
       "50%        36.000000\n",
       "75%        41.000000\n",
       "90%        49.000000\n",
       "95%        59.000000\n",
       "99%        73.000000\n",
       "max        92.000000\n",
       "Name: Age, dtype: float64"
      ]
     },
     "execution_count": 29,
     "metadata": {},
     "output_type": "execute_result"
    }
   ],
   "source": [
    "# examining the age of the not_churn group\n",
    "not_churn[\"Age\"].describe([0.05,0.25,0.50,0.75,0.90,0.95,0.99])"
   ]
  },
  {
   "cell_type": "code",
   "execution_count": 30,
   "metadata": {
    "execution": {
     "iopub.execute_input": "2020-11-14T09:44:18.395390Z",
     "iopub.status.busy": "2020-11-14T09:44:18.389203Z",
     "iopub.status.idle": "2020-11-14T09:44:18.652098Z",
     "shell.execute_reply": "2020-11-14T09:44:18.651453Z"
    },
    "papermill": {
     "duration": 0.35067,
     "end_time": "2020-11-14T09:44:18.652256",
     "exception": false,
     "start_time": "2020-11-14T09:44:18.301586",
     "status": "completed"
    },
    "tags": []
   },
   "outputs": [
    {
     "data": {
      "image/png": "[encoded data removed]",
      "text/plain": [
       "<Figure size 576x432 with 1 Axes>"
      ]
     },
     "metadata": {
      "image/png": {
       "height": 370,
       "width": 493
      },
      "needs_background": "light"
     },
     "output_type": "display_data"
    }
   ],
   "source": [
    "# distribution of the Age for not_churn\n",
    "pyplot.figure(figsize=(8,6))\n",
    "pyplot.xlabel('Age')\n",
    "pyplot.hist(not_churn[\"Age\"],bins=15, alpha=0.7, label='Not Churn')\n",
    "pyplot.legend(loc='upper right')\n",
    "pyplot.show()"
   ]
  },
  {
   "cell_type": "code",
   "execution_count": 31,
   "metadata": {
    "execution": {
     "iopub.execute_input": "2020-11-14T09:44:18.823847Z",
     "iopub.status.busy": "2020-11-14T09:44:18.823088Z",
     "iopub.status.idle": "2020-11-14T09:44:18.831450Z",
     "shell.execute_reply": "2020-11-14T09:44:18.832090Z"
    },
    "papermill": {
     "duration": 0.097836,
     "end_time": "2020-11-14T09:44:18.832285",
     "exception": false,
     "start_time": "2020-11-14T09:44:18.734449",
     "status": "completed"
    },
    "tags": []
   },
   "outputs": [
    {
     "data": {
      "text/plain": [
       "count    2037.000000\n",
       "mean       44.837997\n",
       "std         9.761562\n",
       "min        18.000000\n",
       "5%         29.000000\n",
       "25%        38.000000\n",
       "50%        45.000000\n",
       "75%        51.000000\n",
       "90%        58.000000\n",
       "95%        61.000000\n",
       "99%        68.000000\n",
       "max        84.000000\n",
       "Name: Age, dtype: float64"
      ]
     },
     "execution_count": 31,
     "metadata": {},
     "output_type": "execute_result"
    }
   ],
   "source": [
    "# examine the age of the churn group\n",
    "churn[\"Age\"].describe([0.05,0.25,0.50,0.75,0.90,0.95,0.99])"
   ]
  },
  {
   "cell_type": "code",
   "execution_count": 32,
   "metadata": {
    "execution": {
     "iopub.execute_input": "2020-11-14T09:44:19.011584Z",
     "iopub.status.busy": "2020-11-14T09:44:19.005237Z",
     "iopub.status.idle": "2020-11-14T09:44:19.258400Z",
     "shell.execute_reply": "2020-11-14T09:44:19.257649Z"
    },
    "papermill": {
     "duration": 0.342516,
     "end_time": "2020-11-14T09:44:19.258527",
     "exception": false,
     "start_time": "2020-11-14T09:44:18.916011",
     "status": "completed"
    },
    "tags": []
   },
   "outputs": [
    {
     "data": {
      "image/png": "[encoded data removed]",
      "text/plain": [
       "<Figure size 576x432 with 1 Axes>"
      ]
     },
     "metadata": {
      "image/png": {
       "height": 370,
       "width": 486
      },
      "needs_background": "light"
     },
     "output_type": "display_data"
    }
   ],
   "source": [
    "# distribution of the Age for not_churn\n",
    "pyplot.figure(figsize=(8,6))\n",
    "pyplot.xlabel('Age')\n",
    "pyplot.hist(churn[\"Age\"],bins=15, alpha=0.7, label='Churn')\n",
    "pyplot.legend(loc='upper right')\n",
    "pyplot.show()"
   ]
  },
  {
   "cell_type": "code",
   "execution_count": 33,
   "metadata": {
    "execution": {
     "iopub.execute_input": "2020-11-14T09:44:19.437304Z",
     "iopub.status.busy": "2020-11-14T09:44:19.431717Z",
     "iopub.status.idle": "2020-11-14T09:44:19.844994Z",
     "shell.execute_reply": "2020-11-14T09:44:19.845540Z"
    },
    "papermill": {
     "duration": 0.50303,
     "end_time": "2020-11-14T09:44:19.845723",
     "exception": false,
     "start_time": "2020-11-14T09:44:19.342693",
     "status": "completed"
    },
    "tags": []
   },
   "outputs": [
    {
     "data": {
      "text/plain": [
       "<seaborn.axisgrid.FacetGrid at 0x7f8aecb55f50>"
      ]
     },
     "execution_count": 33,
     "metadata": {},
     "output_type": "execute_result"
    },
    {
     "data": {
      "image/png": "[encoded data removed]",
      "text/plain": [
       "<Figure size 360x360 with 1 Axes>"
      ]
     },
     "metadata": {
      "image/png": {
       "height": 351,
       "width": 352
      },
      "needs_background": "light"
     },
     "output_type": "display_data"
    }
   ],
   "source": [
    "sns.catplot(\"Exited\", \"Age\", data = df)"
   ]
  },
  {
   "cell_type": "markdown",
   "metadata": {
    "papermill": {
     "duration": 0.085699,
     "end_time": "2020-11-14T09:44:20.017534",
     "exception": false,
     "start_time": "2020-11-14T09:44:19.931835",
     "status": "completed"
    },
    "tags": []
   },
   "source": [
    "## Balance"
   ]
  },
  {
   "cell_type": "code",
   "execution_count": 34,
   "metadata": {
    "execution": {
     "iopub.execute_input": "2020-11-14T09:44:20.197812Z",
     "iopub.status.busy": "2020-11-14T09:44:20.197064Z",
     "iopub.status.idle": "2020-11-14T09:44:20.206509Z",
     "shell.execute_reply": "2020-11-14T09:44:20.205903Z"
    },
    "papermill": {
     "duration": 0.101515,
     "end_time": "2020-11-14T09:44:20.206638",
     "exception": false,
     "start_time": "2020-11-14T09:44:20.105123",
     "status": "completed"
    },
    "tags": []
   },
   "outputs": [
    {
     "data": {
      "text/plain": [
       "count      7963.000000\n",
       "mean      72745.296779\n",
       "std       62848.040701\n",
       "min           0.000000\n",
       "5%            0.000000\n",
       "25%           0.000000\n",
       "50%       92072.680000\n",
       "75%      126410.280000\n",
       "90%      148730.298000\n",
       "95%      161592.595000\n",
       "99%      183753.906200\n",
       "max      221532.800000\n",
       "Name: Balance, dtype: float64"
      ]
     },
     "execution_count": 34,
     "metadata": {},
     "output_type": "execute_result"
    }
   ],
   "source": [
    "# examining the Balance of the not_churn group\n",
    "not_churn[\"Balance\"].describe([0.05,0.25,0.50,0.75,0.90,0.95,0.99])"
   ]
  },
  {
   "cell_type": "code",
   "execution_count": 35,
   "metadata": {
    "execution": {
     "iopub.execute_input": "2020-11-14T09:44:20.392598Z",
     "iopub.status.busy": "2020-11-14T09:44:20.387662Z",
     "iopub.status.idle": "2020-11-14T09:44:20.630846Z",
     "shell.execute_reply": "2020-11-14T09:44:20.630110Z"
    },
    "papermill": {
     "duration": 0.337548,
     "end_time": "2020-11-14T09:44:20.630965",
     "exception": false,
     "start_time": "2020-11-14T09:44:20.293417",
     "status": "completed"
    },
    "tags": []
   },
   "outputs": [
    {
     "data": {
      "image/png": "[encoded data removed]",
      "text/plain": [
       "<Figure size 576x432 with 1 Axes>"
      ]
     },
     "metadata": {
      "image/png": {
       "height": 370,
       "width": 493
      },
      "needs_background": "light"
     },
     "output_type": "display_data"
    }
   ],
   "source": [
    "# distribution of the Balance for not_churn\n",
    "pyplot.figure(figsize=(8,6))\n",
    "pyplot.xlabel('Balance')\n",
    "pyplot.hist(not_churn[\"Balance\"],bins=15, alpha=0.7, label='Not Churn')\n",
    "pyplot.legend(loc='upper right')\n",
    "pyplot.show()"
   ]
  },
  {
   "cell_type": "code",
   "execution_count": 36,
   "metadata": {
    "execution": {
     "iopub.execute_input": "2020-11-14T09:44:20.813450Z",
     "iopub.status.busy": "2020-11-14T09:44:20.812385Z",
     "iopub.status.idle": "2020-11-14T09:44:20.821405Z",
     "shell.execute_reply": "2020-11-14T09:44:20.820811Z"
    },
    "papermill": {
     "duration": 0.102542,
     "end_time": "2020-11-14T09:44:20.821523",
     "exception": false,
     "start_time": "2020-11-14T09:44:20.718981",
     "status": "completed"
    },
    "tags": []
   },
   "outputs": [
    {
     "data": {
      "text/plain": [
       "count      2037.000000\n",
       "mean      91108.539337\n",
       "std       58360.794816\n",
       "min           0.000000\n",
       "5%            0.000000\n",
       "25%       38340.020000\n",
       "50%      109349.290000\n",
       "75%      131433.330000\n",
       "90%      152080.618000\n",
       "95%      167698.240000\n",
       "99%      197355.288400\n",
       "max      250898.090000\n",
       "Name: Balance, dtype: float64"
      ]
     },
     "execution_count": 36,
     "metadata": {},
     "output_type": "execute_result"
    }
   ],
   "source": [
    "# examining the Balance of the churn group\n",
    "churn[\"Balance\"].describe([0.05,0.25,0.50,0.75,0.90,0.95,0.99])"
   ]
  },
  {
   "cell_type": "code",
   "execution_count": 37,
   "metadata": {
    "execution": {
     "iopub.execute_input": "2020-11-14T09:44:21.016699Z",
     "iopub.status.busy": "2020-11-14T09:44:21.015912Z",
     "iopub.status.idle": "2020-11-14T09:44:21.248019Z",
     "shell.execute_reply": "2020-11-14T09:44:21.247230Z"
    },
    "papermill": {
     "duration": 0.337972,
     "end_time": "2020-11-14T09:44:21.248192",
     "exception": false,
     "start_time": "2020-11-14T09:44:20.910220",
     "status": "completed"
    },
    "tags": []
   },
   "outputs": [
    {
     "data": {
      "image/png": "[encoded data removed]",
      "text/plain": [
       "<Figure size 576x432 with 1 Axes>"
      ]
     },
     "metadata": {
      "image/png": {
       "height": 370,
       "width": 486
      },
      "needs_background": "light"
     },
     "output_type": "display_data"
    }
   ],
   "source": [
    "# distribution of the Balance for churn\n",
    "pyplot.figure(figsize=(8,6))\n",
    "pyplot.xlabel('Balance')\n",
    "pyplot.hist(churn[\"Balance\"],bins=15, alpha=0.7, label='Churn')\n",
    "pyplot.legend(loc='upper right')\n",
    "pyplot.show()"
   ]
  },
  {
   "cell_type": "code",
   "execution_count": 38,
   "metadata": {
    "execution": {
     "iopub.execute_input": "2020-11-14T09:44:21.449955Z",
     "iopub.status.busy": "2020-11-14T09:44:21.434482Z",
     "iopub.status.idle": "2020-11-14T09:44:21.841408Z",
     "shell.execute_reply": "2020-11-14T09:44:21.840790Z"
    },
    "papermill": {
     "duration": 0.50246,
     "end_time": "2020-11-14T09:44:21.841526",
     "exception": false,
     "start_time": "2020-11-14T09:44:21.339066",
     "status": "completed"
    },
    "tags": []
   },
   "outputs": [
    {
     "data": {
      "text/plain": [
       "<seaborn.axisgrid.FacetGrid at 0x7f8aecace150>"
      ]
     },
     "execution_count": 38,
     "metadata": {},
     "output_type": "execute_result"
    },
    {
     "data": {
      "image/png": "[encoded data removed]",
      "text/plain": [
       "<Figure size 360x360 with 1 Axes>"
      ]
     },
     "metadata": {
      "image/png": {
       "height": 351,
       "width": 352
      },
      "needs_background": "light"
     },
     "output_type": "display_data"
    }
   ],
   "source": [
    "sns.catplot(\"Exited\", \"Balance\", data = df)"
   ]
  },
  {
   "cell_type": "markdown",
   "metadata": {
    "papermill": {
     "duration": 0.091618,
     "end_time": "2020-11-14T09:44:22.025649",
     "exception": false,
     "start_time": "2020-11-14T09:44:21.934031",
     "status": "completed"
    },
    "tags": []
   },
   "source": [
    "## EstimatedSalary"
   ]
  },
  {
   "cell_type": "code",
   "execution_count": 39,
   "metadata": {
    "execution": {
     "iopub.execute_input": "2020-11-14T09:44:22.219977Z",
     "iopub.status.busy": "2020-11-14T09:44:22.219182Z",
     "iopub.status.idle": "2020-11-14T09:44:22.227811Z",
     "shell.execute_reply": "2020-11-14T09:44:22.227198Z"
    },
    "papermill": {
     "duration": 0.108009,
     "end_time": "2020-11-14T09:44:22.227948",
     "exception": false,
     "start_time": "2020-11-14T09:44:22.119939",
     "status": "completed"
    },
    "tags": []
   },
   "outputs": [
    {
     "data": {
      "text/plain": [
       "count      7963.000000\n",
       "mean      99738.391772\n",
       "std       57405.586966\n",
       "min          90.070000\n",
       "5%         9773.542000\n",
       "25%       50783.490000\n",
       "50%       99645.040000\n",
       "75%      148609.955000\n",
       "90%      179453.212000\n",
       "95%      190107.557000\n",
       "99%      198131.465200\n",
       "max      199992.480000\n",
       "Name: EstimatedSalary, dtype: float64"
      ]
     },
     "execution_count": 39,
     "metadata": {},
     "output_type": "execute_result"
    }
   ],
   "source": [
    "# examining the EstimatedSalary of the not_churn group\n",
    "not_churn[\"EstimatedSalary\"].describe([0.05,0.25,0.50,0.75,0.90,0.95,0.99])"
   ]
  },
  {
   "cell_type": "code",
   "execution_count": 40,
   "metadata": {
    "execution": {
     "iopub.execute_input": "2020-11-14T09:44:22.428394Z",
     "iopub.status.busy": "2020-11-14T09:44:22.423332Z",
     "iopub.status.idle": "2020-11-14T09:44:22.683495Z",
     "shell.execute_reply": "2020-11-14T09:44:22.682857Z"
    },
    "papermill": {
     "duration": 0.361046,
     "end_time": "2020-11-14T09:44:22.683637",
     "exception": false,
     "start_time": "2020-11-14T09:44:22.322591",
     "status": "completed"
    },
    "tags": []
   },
   "outputs": [
    {
     "data": {
      "image/png": "[encoded data removed]",
      "text/plain": [
       "<Figure size 576x432 with 1 Axes>"
      ]
     },
     "metadata": {
      "image/png": {
       "height": 370,
       "width": 486
      },
      "needs_background": "light"
     },
     "output_type": "display_data"
    }
   ],
   "source": [
    "# distribution of the Balance for churn\n",
    "pyplot.figure(figsize=(8,6))\n",
    "pyplot.xlabel('EstimatedSalary')\n",
    "pyplot.hist(not_churn[\"EstimatedSalary\"],bins=15, alpha=0.7, label='Not Churn')\n",
    "pyplot.legend(loc='upper right')\n",
    "pyplot.show()"
   ]
  },
  {
   "cell_type": "code",
   "execution_count": 41,
   "metadata": {
    "execution": {
     "iopub.execute_input": "2020-11-14T09:44:22.878458Z",
     "iopub.status.busy": "2020-11-14T09:44:22.877535Z",
     "iopub.status.idle": "2020-11-14T09:44:22.887045Z",
     "shell.execute_reply": "2020-11-14T09:44:22.886339Z"
    },
    "papermill": {
     "duration": 0.109358,
     "end_time": "2020-11-14T09:44:22.887182",
     "exception": false,
     "start_time": "2020-11-14T09:44:22.777824",
     "status": "completed"
    },
    "tags": []
   },
   "outputs": [
    {
     "data": {
      "text/plain": [
       "count      2037.000000\n",
       "mean     101465.677531\n",
       "std       57912.418071\n",
       "min          11.580000\n",
       "5%        10030.760000\n",
       "25%       51907.720000\n",
       "50%      102460.840000\n",
       "75%      152422.910000\n",
       "90%      180169.390000\n",
       "95%      190328.982000\n",
       "99%      197717.297600\n",
       "max      199808.100000\n",
       "Name: EstimatedSalary, dtype: float64"
      ]
     },
     "execution_count": 41,
     "metadata": {},
     "output_type": "execute_result"
    }
   ],
   "source": [
    "# examining the EstimatedSalary of the churn group\n",
    "churn[\"EstimatedSalary\"].describe([0.05,0.25,0.50,0.75,0.90,0.95,0.99])"
   ]
  },
  {
   "cell_type": "code",
   "execution_count": 42,
   "metadata": {
    "execution": {
     "iopub.execute_input": "2020-11-14T09:44:23.198752Z",
     "iopub.status.busy": "2020-11-14T09:44:23.085453Z",
     "iopub.status.idle": "2020-11-14T09:44:23.452113Z",
     "shell.execute_reply": "2020-11-14T09:44:23.452688Z"
    },
    "papermill": {
     "duration": 0.470381,
     "end_time": "2020-11-14T09:44:23.452859",
     "exception": false,
     "start_time": "2020-11-14T09:44:22.982478",
     "status": "completed"
    },
    "tags": []
   },
   "outputs": [
    {
     "data": {
      "image/png": "[encoded data removed]",
      "text/plain": [
       "<Figure size 576x432 with 1 Axes>"
      ]
     },
     "metadata": {
      "image/png": {
       "height": 370,
       "width": 486
      },
      "needs_background": "light"
     },
     "output_type": "display_data"
    }
   ],
   "source": [
    "# distribution of the EstimatedSalary for churn\n",
    "pyplot.figure(figsize=(8,6))\n",
    "pyplot.xlabel('EstimatedSalary')\n",
    "pyplot.hist(churn[\"EstimatedSalary\"],bins=15, alpha=0.7, label='Churn')\n",
    "pyplot.legend(loc='upper right')\n",
    "pyplot.show()"
   ]
  },
  {
   "cell_type": "code",
   "execution_count": 43,
   "metadata": {
    "execution": {
     "iopub.execute_input": "2020-11-14T09:44:23.654632Z",
     "iopub.status.busy": "2020-11-14T09:44:23.649512Z",
     "iopub.status.idle": "2020-11-14T09:44:24.088804Z",
     "shell.execute_reply": "2020-11-14T09:44:24.088025Z"
    },
    "papermill": {
     "duration": 0.53994,
     "end_time": "2020-11-14T09:44:24.088930",
     "exception": false,
     "start_time": "2020-11-14T09:44:23.548990",
     "status": "completed"
    },
    "tags": []
   },
   "outputs": [
    {
     "data": {
      "text/plain": [
       "<seaborn.axisgrid.FacetGrid at 0x7f8aec586090>"
      ]
     },
     "execution_count": 43,
     "metadata": {},
     "output_type": "execute_result"
    },
    {
     "data": {
      "image/png": "[encoded data removed]",
      "text/plain": [
       "<Figure size 360x360 with 1 Axes>"
      ]
     },
     "metadata": {
      "image/png": {
       "height": 351,
       "width": 352
      },
      "needs_background": "light"
     },
     "output_type": "display_data"
    }
   ],
   "source": [
    "sns.catplot(\"Exited\", \"EstimatedSalary\", data = df)"
   ]
  },
  {
   "cell_type": "markdown",
   "metadata": {
    "papermill": {
     "duration": 0.09854,
     "end_time": "2020-11-14T09:44:24.289081",
     "exception": false,
     "start_time": "2020-11-14T09:44:24.190541",
     "status": "completed"
    },
    "tags": []
   },
   "source": [
    "# Correlation Matrix"
   ]
  },
  {
   "cell_type": "code",
   "execution_count": 44,
   "metadata": {
    "execution": {
     "iopub.execute_input": "2020-11-14T09:44:24.496576Z",
     "iopub.status.busy": "2020-11-14T09:44:24.493881Z",
     "iopub.status.idle": "2020-11-14T09:44:25.205046Z",
     "shell.execute_reply": "2020-11-14T09:44:25.205637Z"
    },
    "papermill": {
     "duration": 0.817789,
     "end_time": "2020-11-14T09:44:25.205791",
     "exception": false,
     "start_time": "2020-11-14T09:44:24.388002",
     "status": "completed"
    },
    "tags": []
   },
   "outputs": [
    {
     "data": {
      "text/plain": [
       "<matplotlib.axes._subplots.AxesSubplot at 0x7f8aeca8af90>"
      ]
     },
     "execution_count": 44,
     "metadata": {},
     "output_type": "execute_result"
    },
    {
     "data": {
      "image/png": "[encoded data removed]",
      "text/plain": [
       "<Figure size 720x432 with 2 Axes>"
      ]
     },
     "metadata": {
      "image/png": {
       "height": 433,
       "width": 625
      },
      "needs_background": "light"
     },
     "output_type": "display_data"
    }
   ],
   "source": [
    "# Exited correlation matrix\n",
    "k = 10 #number of variables for heatmap\n",
    "cols = df.corr().nlargest(k, 'Exited')['Exited'].index\n",
    "cm = df[cols].corr()\n",
    "plt.figure(figsize=(10,6))\n",
    "sns.heatmap(cm, annot=True, cmap = 'viridis')"
   ]
  },
  {
   "cell_type": "markdown",
   "metadata": {
    "papermill": {
     "duration": 0.102829,
     "end_time": "2020-11-14T09:44:25.413781",
     "exception": false,
     "start_time": "2020-11-14T09:44:25.310952",
     "status": "completed"
    },
    "tags": []
   },
   "source": [
    "# 2- Data Preprocessing"
   ]
  },
  {
   "cell_type": "markdown",
   "metadata": {
    "papermill": {
     "duration": 0.103023,
     "end_time": "2020-11-14T09:44:25.620306",
     "exception": false,
     "start_time": "2020-11-14T09:44:25.517283",
     "status": "completed"
    },
    "tags": []
   },
   "source": [
    "## Missing Value"
   ]
  },
  {
   "cell_type": "code",
   "execution_count": 45,
   "metadata": {
    "execution": {
     "iopub.execute_input": "2020-11-14T09:44:25.836856Z",
     "iopub.status.busy": "2020-11-14T09:44:25.836047Z",
     "iopub.status.idle": "2020-11-14T09:44:25.843113Z",
     "shell.execute_reply": "2020-11-14T09:44:25.842409Z"
    },
    "papermill": {
     "duration": 0.119432,
     "end_time": "2020-11-14T09:44:25.843250",
     "exception": false,
     "start_time": "2020-11-14T09:44:25.723818",
     "status": "completed"
    },
    "tags": []
   },
   "outputs": [
    {
     "data": {
      "text/plain": [
       "CustomerId         0\n",
       "Surname            0\n",
       "CreditScore        0\n",
       "Geography          0\n",
       "Gender             0\n",
       "Age                0\n",
       "Tenure             0\n",
       "Balance            0\n",
       "NumOfProducts      0\n",
       "HasCrCard          0\n",
       "IsActiveMember     0\n",
       "EstimatedSalary    0\n",
       "Exited             0\n",
       "dtype: int64"
      ]
     },
     "execution_count": 45,
     "metadata": {},
     "output_type": "execute_result"
    }
   ],
   "source": [
    "# # Missing Observation Analysis\n",
    "df.isnull().sum()"
   ]
  },
  {
   "cell_type": "markdown",
   "metadata": {
    "papermill": {
     "duration": 0.1036,
     "end_time": "2020-11-14T09:44:26.051012",
     "exception": false,
     "start_time": "2020-11-14T09:44:25.947412",
     "status": "completed"
    },
    "tags": []
   },
   "source": [
    "## Outliers"
   ]
  },
  {
   "cell_type": "code",
   "execution_count": 46,
   "metadata": {
    "execution": {
     "iopub.execute_input": "2020-11-14T09:44:26.268205Z",
     "iopub.status.busy": "2020-11-14T09:44:26.267184Z",
     "iopub.status.idle": "2020-11-14T09:44:26.270380Z",
     "shell.execute_reply": "2020-11-14T09:44:26.269673Z"
    },
    "papermill": {
     "duration": 0.115094,
     "end_time": "2020-11-14T09:44:26.270503",
     "exception": false,
     "start_time": "2020-11-14T09:44:26.155409",
     "status": "completed"
    },
    "tags": []
   },
   "outputs": [],
   "source": [
    "# To determine the threshold value for outliers\n",
    "def outlier_thresholds(dataframe, variable, low_quantile=0.05, up_quantile=0.95):\n",
    "    quantile_one = dataframe[variable].quantile(low_quantile)\n",
    "    quantile_three = dataframe[variable].quantile(up_quantile)\n",
    "    interquantile_range = quantile_three - quantile_one\n",
    "    up_limit = quantile_three + 1.5 * interquantile_range\n",
    "    low_limit = quantile_one - 1.5 * interquantile_range\n",
    "    return low_limit, up_limit"
   ]
  },
  {
   "cell_type": "code",
   "execution_count": 47,
   "metadata": {
    "execution": {
     "iopub.execute_input": "2020-11-14T09:44:26.493567Z",
     "iopub.status.busy": "2020-11-14T09:44:26.492498Z",
     "iopub.status.idle": "2020-11-14T09:44:26.495933Z",
     "shell.execute_reply": "2020-11-14T09:44:26.495209Z"
    },
    "papermill": {
     "duration": 0.120259,
     "end_time": "2020-11-14T09:44:26.496060",
     "exception": false,
     "start_time": "2020-11-14T09:44:26.375801",
     "status": "completed"
    },
    "tags": []
   },
   "outputs": [],
   "source": [
    "# Are there any outliers in the variables\n",
    "def has_outliers(dataframe, numeric_columns, plot=False):\n",
    "   # variable_names = []\n",
    "    for col in numeric_columns:\n",
    "        low_limit, up_limit = outlier_thresholds(dataframe, col)\n",
    "        if dataframe[(dataframe[col] > up_limit) | (dataframe[col] < low_limit)].any(axis=None):\n",
    "            number_of_outliers = dataframe[(dataframe[col] > up_limit) | (dataframe[col] < low_limit)].shape[0]\n",
    "            print(col, \" : \", number_of_outliers, \"outliers\")\n",
    "            #variable_names.append(col)\n",
    "            if plot:\n",
    "                sns.boxplot(x=dataframe[col])\n",
    "                plt.show()\n",
    "    #return variable_names"
   ]
  },
  {
   "cell_type": "code",
   "execution_count": 48,
   "metadata": {
    "execution": {
     "iopub.execute_input": "2020-11-14T09:44:26.712981Z",
     "iopub.status.busy": "2020-11-14T09:44:26.712177Z",
     "iopub.status.idle": "2020-11-14T09:44:26.731180Z",
     "shell.execute_reply": "2020-11-14T09:44:26.730473Z"
    },
    "papermill": {
     "duration": 0.130791,
     "end_time": "2020-11-14T09:44:26.731304",
     "exception": false,
     "start_time": "2020-11-14T09:44:26.600513",
     "status": "completed"
    },
    "tags": []
   },
   "outputs": [
    {
     "name": "stdout",
     "output_type": "stream",
     "text": [
      "CreditScore has  None Outliers\n",
      "Age has  None Outliers\n",
      "Balance has  None Outliers\n",
      "EstimatedSalary has  None Outliers\n"
     ]
    }
   ],
   "source": [
    "# There is no outlier\n",
    "for var in numeric_variables:\n",
    "    print(var, \"has \" , has_outliers(df, [var]),  \"Outliers\")"
   ]
  },
  {
   "cell_type": "markdown",
   "metadata": {
    "papermill": {
     "duration": 0.105132,
     "end_time": "2020-11-14T09:44:26.941287",
     "exception": false,
     "start_time": "2020-11-14T09:44:26.836155",
     "status": "completed"
    },
    "tags": []
   },
   "source": [
    "## Feature Engineering"
   ]
  },
  {
   "cell_type": "code",
   "execution_count": 49,
   "metadata": {
    "execution": {
     "iopub.execute_input": "2020-11-14T09:44:27.163777Z",
     "iopub.status.busy": "2020-11-14T09:44:27.160504Z",
     "iopub.status.idle": "2020-11-14T09:44:27.184425Z",
     "shell.execute_reply": "2020-11-14T09:44:27.183812Z"
    },
    "papermill": {
     "duration": 0.137882,
     "end_time": "2020-11-14T09:44:27.184556",
     "exception": false,
     "start_time": "2020-11-14T09:44:27.046674",
     "status": "completed"
    },
    "tags": []
   },
   "outputs": [],
   "source": [
    "# we standardize tenure with age\n",
    "df[\"NewTenure\"] = df[\"Tenure\"]/df[\"Age\"]\n",
    "df[\"NewCreditsScore\"] = pd.qcut(df['CreditScore'], 6, labels = [1, 2, 3, 4, 5, 6])\n",
    "df[\"NewAgeScore\"] = pd.qcut(df['Age'], 8, labels = [1, 2, 3, 4, 5, 6, 7, 8])\n",
    "df[\"NewBalanceScore\"] = pd.qcut(df['Balance'].rank(method=\"first\"), 5, labels = [1, 2, 3, 4, 5])\n",
    "df[\"NewEstSalaryScore\"] = pd.qcut(df['EstimatedSalary'], 10, labels = [1, 2, 3, 4, 5, 6, 7, 8, 9, 10])"
   ]
  },
  {
   "cell_type": "code",
   "execution_count": 50,
   "metadata": {
    "execution": {
     "iopub.execute_input": "2020-11-14T09:44:27.420064Z",
     "iopub.status.busy": "2020-11-14T09:44:27.419306Z",
     "iopub.status.idle": "2020-11-14T09:44:27.424573Z",
     "shell.execute_reply": "2020-11-14T09:44:27.423991Z"
    },
    "papermill": {
     "duration": 0.135188,
     "end_time": "2020-11-14T09:44:27.424697",
     "exception": false,
     "start_time": "2020-11-14T09:44:27.289509",
     "status": "completed"
    },
    "tags": []
   },
   "outputs": [
    {
     "data": {
      "text/html": [
       "<div>\n",
       "<style scoped>\n",
       "    .dataframe tbody tr th:only-of-type {\n",
       "        vertical-align: middle;\n",
       "    }\n",
       "\n",
       "    .dataframe tbody tr th {\n",
       "        vertical-align: top;\n",
       "    }\n",
       "\n",
       "    .dataframe thead th {\n",
       "        text-align: right;\n",
       "    }\n",
       "</style>\n",
       "<table border=\"1\" class=\"dataframe\">\n",
       "  <thead>\n",
       "    <tr style=\"text-align: right;\">\n",
       "      <th></th>\n",
       "      <th>CustomerId</th>\n",
       "      <th>Surname</th>\n",
       "      <th>CreditScore</th>\n",
       "      <th>Geography</th>\n",
       "      <th>Gender</th>\n",
       "      <th>Age</th>\n",
       "      <th>Tenure</th>\n",
       "      <th>Balance</th>\n",
       "      <th>NumOfProducts</th>\n",
       "      <th>HasCrCard</th>\n",
       "      <th>IsActiveMember</th>\n",
       "      <th>EstimatedSalary</th>\n",
       "      <th>Exited</th>\n",
       "      <th>NewTenure</th>\n",
       "      <th>NewCreditsScore</th>\n",
       "      <th>NewAgeScore</th>\n",
       "      <th>NewBalanceScore</th>\n",
       "      <th>NewEstSalaryScore</th>\n",
       "    </tr>\n",
       "    <tr>\n",
       "      <th>RowNumber</th>\n",
       "      <th></th>\n",
       "      <th></th>\n",
       "      <th></th>\n",
       "      <th></th>\n",
       "      <th></th>\n",
       "      <th></th>\n",
       "      <th></th>\n",
       "      <th></th>\n",
       "      <th></th>\n",
       "      <th></th>\n",
       "      <th></th>\n",
       "      <th></th>\n",
       "      <th></th>\n",
       "      <th></th>\n",
       "      <th></th>\n",
       "      <th></th>\n",
       "      <th></th>\n",
       "      <th></th>\n",
       "    </tr>\n",
       "  </thead>\n",
       "  <tbody>\n",
       "    <tr>\n",
       "      <th>1</th>\n",
       "      <td>15634602</td>\n",
       "      <td>Hargrave</td>\n",
       "      <td>619</td>\n",
       "      <td>France</td>\n",
       "      <td>Female</td>\n",
       "      <td>42</td>\n",
       "      <td>2</td>\n",
       "      <td>0.00</td>\n",
       "      <td>1</td>\n",
       "      <td>1</td>\n",
       "      <td>1</td>\n",
       "      <td>101348.88</td>\n",
       "      <td>1</td>\n",
       "      <td>0.047619</td>\n",
       "      <td>3</td>\n",
       "      <td>6</td>\n",
       "      <td>1</td>\n",
       "      <td>6</td>\n",
       "    </tr>\n",
       "    <tr>\n",
       "      <th>2</th>\n",
       "      <td>15647311</td>\n",
       "      <td>Hill</td>\n",
       "      <td>608</td>\n",
       "      <td>Spain</td>\n",
       "      <td>Female</td>\n",
       "      <td>41</td>\n",
       "      <td>1</td>\n",
       "      <td>83807.86</td>\n",
       "      <td>1</td>\n",
       "      <td>0</td>\n",
       "      <td>1</td>\n",
       "      <td>112542.58</td>\n",
       "      <td>0</td>\n",
       "      <td>0.024390</td>\n",
       "      <td>2</td>\n",
       "      <td>6</td>\n",
       "      <td>3</td>\n",
       "      <td>6</td>\n",
       "    </tr>\n",
       "    <tr>\n",
       "      <th>3</th>\n",
       "      <td>15619304</td>\n",
       "      <td>Onio</td>\n",
       "      <td>502</td>\n",
       "      <td>France</td>\n",
       "      <td>Female</td>\n",
       "      <td>42</td>\n",
       "      <td>8</td>\n",
       "      <td>159660.80</td>\n",
       "      <td>3</td>\n",
       "      <td>1</td>\n",
       "      <td>0</td>\n",
       "      <td>113931.57</td>\n",
       "      <td>1</td>\n",
       "      <td>0.190476</td>\n",
       "      <td>1</td>\n",
       "      <td>6</td>\n",
       "      <td>5</td>\n",
       "      <td>6</td>\n",
       "    </tr>\n",
       "    <tr>\n",
       "      <th>4</th>\n",
       "      <td>15701354</td>\n",
       "      <td>Boni</td>\n",
       "      <td>699</td>\n",
       "      <td>France</td>\n",
       "      <td>Female</td>\n",
       "      <td>39</td>\n",
       "      <td>1</td>\n",
       "      <td>0.00</td>\n",
       "      <td>2</td>\n",
       "      <td>0</td>\n",
       "      <td>0</td>\n",
       "      <td>93826.63</td>\n",
       "      <td>0</td>\n",
       "      <td>0.025641</td>\n",
       "      <td>5</td>\n",
       "      <td>5</td>\n",
       "      <td>1</td>\n",
       "      <td>5</td>\n",
       "    </tr>\n",
       "    <tr>\n",
       "      <th>5</th>\n",
       "      <td>15737888</td>\n",
       "      <td>Mitchell</td>\n",
       "      <td>850</td>\n",
       "      <td>Spain</td>\n",
       "      <td>Female</td>\n",
       "      <td>43</td>\n",
       "      <td>2</td>\n",
       "      <td>125510.82</td>\n",
       "      <td>1</td>\n",
       "      <td>1</td>\n",
       "      <td>1</td>\n",
       "      <td>79084.10</td>\n",
       "      <td>0</td>\n",
       "      <td>0.046512</td>\n",
       "      <td>6</td>\n",
       "      <td>6</td>\n",
       "      <td>4</td>\n",
       "      <td>4</td>\n",
       "    </tr>\n",
       "  </tbody>\n",
       "</table>\n",
       "</div>"
      ],
      "text/plain": [
       "           CustomerId   Surname  CreditScore Geography  Gender  Age  Tenure  \\\n",
       "RowNumber                                                                     \n",
       "1            15634602  Hargrave          619    France  Female   42       2   \n",
       "2            15647311      Hill          608     Spain  Female   41       1   \n",
       "3            15619304      Onio          502    France  Female   42       8   \n",
       "4            15701354      Boni          699    France  Female   39       1   \n",
       "5            15737888  Mitchell          850     Spain  Female   43       2   \n",
       "\n",
       "             Balance  NumOfProducts  HasCrCard  IsActiveMember  \\\n",
       "RowNumber                                                        \n",
       "1               0.00              1          1               1   \n",
       "2           83807.86              1          0               1   \n",
       "3          159660.80              3          1               0   \n",
       "4               0.00              2          0               0   \n",
       "5          125510.82              1          1               1   \n",
       "\n",
       "           EstimatedSalary  Exited  NewTenure NewCreditsScore NewAgeScore  \\\n",
       "RowNumber                                                                   \n",
       "1                101348.88       1   0.047619               3           6   \n",
       "2                112542.58       0   0.024390               2           6   \n",
       "3                113931.57       1   0.190476               1           6   \n",
       "4                 93826.63       0   0.025641               5           5   \n",
       "5                 79084.10       0   0.046512               6           6   \n",
       "\n",
       "          NewBalanceScore NewEstSalaryScore  \n",
       "RowNumber                                    \n",
       "1                       1                 6  \n",
       "2                       3                 6  \n",
       "3                       5                 6  \n",
       "4                       1                 5  \n",
       "5                       4                 4  "
      ]
     },
     "execution_count": 50,
     "metadata": {},
     "output_type": "execute_result"
    }
   ],
   "source": [
    "df.head()"
   ]
  },
  {
   "cell_type": "markdown",
   "metadata": {
    "papermill": {
     "duration": 0.10526,
     "end_time": "2020-11-14T09:44:27.635938",
     "exception": false,
     "start_time": "2020-11-14T09:44:27.530678",
     "status": "completed"
    },
    "tags": []
   },
   "source": [
    "## One Hot Encoding"
   ]
  },
  {
   "cell_type": "code",
   "execution_count": 51,
   "metadata": {
    "execution": {
     "iopub.execute_input": "2020-11-14T09:44:27.862232Z",
     "iopub.status.busy": "2020-11-14T09:44:27.858529Z",
     "iopub.status.idle": "2020-11-14T09:44:27.872044Z",
     "shell.execute_reply": "2020-11-14T09:44:27.871265Z"
    },
    "papermill": {
     "duration": 0.129865,
     "end_time": "2020-11-14T09:44:27.872191",
     "exception": false,
     "start_time": "2020-11-14T09:44:27.742326",
     "status": "completed"
    },
    "tags": []
   },
   "outputs": [],
   "source": [
    "# Variables to apply one hot encoding\n",
    "list = [\"Gender\", \"Geography\"]\n",
    "df = pd.get_dummies(df, columns =list, drop_first = True)"
   ]
  },
  {
   "cell_type": "code",
   "execution_count": 52,
   "metadata": {
    "execution": {
     "iopub.execute_input": "2020-11-14T09:44:28.108849Z",
     "iopub.status.busy": "2020-11-14T09:44:28.107978Z",
     "iopub.status.idle": "2020-11-14T09:44:28.113272Z",
     "shell.execute_reply": "2020-11-14T09:44:28.112543Z"
    },
    "papermill": {
     "duration": 0.134679,
     "end_time": "2020-11-14T09:44:28.113404",
     "exception": false,
     "start_time": "2020-11-14T09:44:27.978725",
     "status": "completed"
    },
    "tags": []
   },
   "outputs": [
    {
     "data": {
      "text/html": [
       "<div>\n",
       "<style scoped>\n",
       "    .dataframe tbody tr th:only-of-type {\n",
       "        vertical-align: middle;\n",
       "    }\n",
       "\n",
       "    .dataframe tbody tr th {\n",
       "        vertical-align: top;\n",
       "    }\n",
       "\n",
       "    .dataframe thead th {\n",
       "        text-align: right;\n",
       "    }\n",
       "</style>\n",
       "<table border=\"1\" class=\"dataframe\">\n",
       "  <thead>\n",
       "    <tr style=\"text-align: right;\">\n",
       "      <th></th>\n",
       "      <th>CustomerId</th>\n",
       "      <th>Surname</th>\n",
       "      <th>CreditScore</th>\n",
       "      <th>Age</th>\n",
       "      <th>Tenure</th>\n",
       "      <th>Balance</th>\n",
       "      <th>NumOfProducts</th>\n",
       "      <th>HasCrCard</th>\n",
       "      <th>IsActiveMember</th>\n",
       "      <th>EstimatedSalary</th>\n",
       "      <th>Exited</th>\n",
       "      <th>NewTenure</th>\n",
       "      <th>NewCreditsScore</th>\n",
       "      <th>NewAgeScore</th>\n",
       "      <th>NewBalanceScore</th>\n",
       "      <th>NewEstSalaryScore</th>\n",
       "      <th>Gender_Male</th>\n",
       "      <th>Geography_Germany</th>\n",
       "      <th>Geography_Spain</th>\n",
       "    </tr>\n",
       "    <tr>\n",
       "      <th>RowNumber</th>\n",
       "      <th></th>\n",
       "      <th></th>\n",
       "      <th></th>\n",
       "      <th></th>\n",
       "      <th></th>\n",
       "      <th></th>\n",
       "      <th></th>\n",
       "      <th></th>\n",
       "      <th></th>\n",
       "      <th></th>\n",
       "      <th></th>\n",
       "      <th></th>\n",
       "      <th></th>\n",
       "      <th></th>\n",
       "      <th></th>\n",
       "      <th></th>\n",
       "      <th></th>\n",
       "      <th></th>\n",
       "      <th></th>\n",
       "    </tr>\n",
       "  </thead>\n",
       "  <tbody>\n",
       "    <tr>\n",
       "      <th>1</th>\n",
       "      <td>15634602</td>\n",
       "      <td>Hargrave</td>\n",
       "      <td>619</td>\n",
       "      <td>42</td>\n",
       "      <td>2</td>\n",
       "      <td>0.00</td>\n",
       "      <td>1</td>\n",
       "      <td>1</td>\n",
       "      <td>1</td>\n",
       "      <td>101348.88</td>\n",
       "      <td>1</td>\n",
       "      <td>0.047619</td>\n",
       "      <td>3</td>\n",
       "      <td>6</td>\n",
       "      <td>1</td>\n",
       "      <td>6</td>\n",
       "      <td>0</td>\n",
       "      <td>0</td>\n",
       "      <td>0</td>\n",
       "    </tr>\n",
       "    <tr>\n",
       "      <th>2</th>\n",
       "      <td>15647311</td>\n",
       "      <td>Hill</td>\n",
       "      <td>608</td>\n",
       "      <td>41</td>\n",
       "      <td>1</td>\n",
       "      <td>83807.86</td>\n",
       "      <td>1</td>\n",
       "      <td>0</td>\n",
       "      <td>1</td>\n",
       "      <td>112542.58</td>\n",
       "      <td>0</td>\n",
       "      <td>0.024390</td>\n",
       "      <td>2</td>\n",
       "      <td>6</td>\n",
       "      <td>3</td>\n",
       "      <td>6</td>\n",
       "      <td>0</td>\n",
       "      <td>0</td>\n",
       "      <td>1</td>\n",
       "    </tr>\n",
       "    <tr>\n",
       "      <th>3</th>\n",
       "      <td>15619304</td>\n",
       "      <td>Onio</td>\n",
       "      <td>502</td>\n",
       "      <td>42</td>\n",
       "      <td>8</td>\n",
       "      <td>159660.80</td>\n",
       "      <td>3</td>\n",
       "      <td>1</td>\n",
       "      <td>0</td>\n",
       "      <td>113931.57</td>\n",
       "      <td>1</td>\n",
       "      <td>0.190476</td>\n",
       "      <td>1</td>\n",
       "      <td>6</td>\n",
       "      <td>5</td>\n",
       "      <td>6</td>\n",
       "      <td>0</td>\n",
       "      <td>0</td>\n",
       "      <td>0</td>\n",
       "    </tr>\n",
       "    <tr>\n",
       "      <th>4</th>\n",
       "      <td>15701354</td>\n",
       "      <td>Boni</td>\n",
       "      <td>699</td>\n",
       "      <td>39</td>\n",
       "      <td>1</td>\n",
       "      <td>0.00</td>\n",
       "      <td>2</td>\n",
       "      <td>0</td>\n",
       "      <td>0</td>\n",
       "      <td>93826.63</td>\n",
       "      <td>0</td>\n",
       "      <td>0.025641</td>\n",
       "      <td>5</td>\n",
       "      <td>5</td>\n",
       "      <td>1</td>\n",
       "      <td>5</td>\n",
       "      <td>0</td>\n",
       "      <td>0</td>\n",
       "      <td>0</td>\n",
       "    </tr>\n",
       "    <tr>\n",
       "      <th>5</th>\n",
       "      <td>15737888</td>\n",
       "      <td>Mitchell</td>\n",
       "      <td>850</td>\n",
       "      <td>43</td>\n",
       "      <td>2</td>\n",
       "      <td>125510.82</td>\n",
       "      <td>1</td>\n",
       "      <td>1</td>\n",
       "      <td>1</td>\n",
       "      <td>79084.10</td>\n",
       "      <td>0</td>\n",
       "      <td>0.046512</td>\n",
       "      <td>6</td>\n",
       "      <td>6</td>\n",
       "      <td>4</td>\n",
       "      <td>4</td>\n",
       "      <td>0</td>\n",
       "      <td>0</td>\n",
       "      <td>1</td>\n",
       "    </tr>\n",
       "  </tbody>\n",
       "</table>\n",
       "</div>"
      ],
      "text/plain": [
       "           CustomerId   Surname  CreditScore  Age  Tenure    Balance  \\\n",
       "RowNumber                                                              \n",
       "1            15634602  Hargrave          619   42       2       0.00   \n",
       "2            15647311      Hill          608   41       1   83807.86   \n",
       "3            15619304      Onio          502   42       8  159660.80   \n",
       "4            15701354      Boni          699   39       1       0.00   \n",
       "5            15737888  Mitchell          850   43       2  125510.82   \n",
       "\n",
       "           NumOfProducts  HasCrCard  IsActiveMember  EstimatedSalary  Exited  \\\n",
       "RowNumber                                                                      \n",
       "1                      1          1               1        101348.88       1   \n",
       "2                      1          0               1        112542.58       0   \n",
       "3                      3          1               0        113931.57       1   \n",
       "4                      2          0               0         93826.63       0   \n",
       "5                      1          1               1         79084.10       0   \n",
       "\n",
       "           NewTenure NewCreditsScore NewAgeScore NewBalanceScore  \\\n",
       "RowNumber                                                          \n",
       "1           0.047619               3           6               1   \n",
       "2           0.024390               2           6               3   \n",
       "3           0.190476               1           6               5   \n",
       "4           0.025641               5           5               1   \n",
       "5           0.046512               6           6               4   \n",
       "\n",
       "          NewEstSalaryScore  Gender_Male  Geography_Germany  Geography_Spain  \n",
       "RowNumber                                                                     \n",
       "1                         6            0                  0                0  \n",
       "2                         6            0                  0                1  \n",
       "3                         6            0                  0                0  \n",
       "4                         5            0                  0                0  \n",
       "5                         4            0                  0                1  "
      ]
     },
     "execution_count": 52,
     "metadata": {},
     "output_type": "execute_result"
    }
   ],
   "source": [
    "df.head()"
   ]
  },
  {
   "cell_type": "markdown",
   "metadata": {
    "papermill": {
     "duration": 0.106793,
     "end_time": "2020-11-14T09:44:28.329300",
     "exception": false,
     "start_time": "2020-11-14T09:44:28.222507",
     "status": "completed"
    },
    "tags": []
   },
   "source": [
    "# Scalling"
   ]
  },
  {
   "cell_type": "code",
   "execution_count": 53,
   "metadata": {
    "execution": {
     "iopub.execute_input": "2020-11-14T09:44:28.551876Z",
     "iopub.status.busy": "2020-11-14T09:44:28.550736Z",
     "iopub.status.idle": "2020-11-14T09:44:28.556519Z",
     "shell.execute_reply": "2020-11-14T09:44:28.555883Z"
    },
    "papermill": {
     "duration": 0.120164,
     "end_time": "2020-11-14T09:44:28.556652",
     "exception": false,
     "start_time": "2020-11-14T09:44:28.436488",
     "status": "completed"
    },
    "tags": []
   },
   "outputs": [],
   "source": [
    "# Removing variables that will not affect the dependent variable\n",
    "df = df.drop([\"CustomerId\",\"Surname\"], axis = 1)"
   ]
  },
  {
   "cell_type": "code",
   "execution_count": 54,
   "metadata": {
    "execution": {
     "iopub.execute_input": "2020-11-14T09:44:28.785132Z",
     "iopub.status.busy": "2020-11-14T09:44:28.784246Z",
     "iopub.status.idle": "2020-11-14T09:44:28.787552Z",
     "shell.execute_reply": "2020-11-14T09:44:28.786786Z"
    },
    "papermill": {
     "duration": 0.122415,
     "end_time": "2020-11-14T09:44:28.787675",
     "exception": false,
     "start_time": "2020-11-14T09:44:28.665260",
     "status": "completed"
    },
    "tags": []
   },
   "outputs": [],
   "source": [
    "# Scale features using statistics that are robust to outliers.\n",
    "def robust_scaler(variable):\n",
    "    var_median = variable.median()\n",
    "    quartile1 = variable.quantile(0.25)\n",
    "    quartile3 = variable.quantile(0.75)\n",
    "    interquantile_range = quartile3 - quartile1\n",
    "    if int(interquantile_range) == 0:\n",
    "        quartile1 = variable.quantile(0.05)\n",
    "        quartile3 = variable.quantile(0.95)\n",
    "        interquantile_range = quartile3 - quartile1\n",
    "        if int(interquantile_range) == 0:\n",
    "            quartile1 = variable.quantile(0.01)\n",
    "            quartile3 = variable.quantile(0.99)\n",
    "            interquantile_range = quartile3 - quartile1\n",
    "            z = (variable - var_median) / interquantile_range\n",
    "            return round(z, 3)\n",
    "\n",
    "        z = (variable - var_median) / interquantile_range\n",
    "        return round(z, 3)\n",
    "    else:\n",
    "        z = (variable - var_median) / interquantile_range\n",
    "    return round(z, 3)"
   ]
  },
  {
   "cell_type": "code",
   "execution_count": 55,
   "metadata": {
    "execution": {
     "iopub.execute_input": "2020-11-14T09:44:29.013446Z",
     "iopub.status.busy": "2020-11-14T09:44:29.012324Z",
     "iopub.status.idle": "2020-11-14T09:44:29.057025Z",
     "shell.execute_reply": "2020-11-14T09:44:29.056259Z"
    },
    "papermill": {
     "duration": 0.161515,
     "end_time": "2020-11-14T09:44:29.057178",
     "exception": false,
     "start_time": "2020-11-14T09:44:28.895663",
     "status": "completed"
    },
    "tags": []
   },
   "outputs": [],
   "source": [
    "new_cols_ohe = [\"Gender_Male\",\"Geography_Germany\",\"Geography_Spain\"]\n",
    "like_num = [col for col in df.columns if df[col].dtypes != 'O' and len(df[col].value_counts()) <= 10]\n",
    "cols_need_scale = [col for col in df.columns if col not in new_cols_ohe\n",
    "                   and col not in \"Exited\"\n",
    "                   and col not in like_num]\n",
    "\n",
    "for col in cols_need_scale:\n",
    "    df[col] = robust_scaler(df[col])"
   ]
  },
  {
   "cell_type": "code",
   "execution_count": 56,
   "metadata": {
    "execution": {
     "iopub.execute_input": "2020-11-14T09:44:29.301999Z",
     "iopub.status.busy": "2020-11-14T09:44:29.300953Z",
     "iopub.status.idle": "2020-11-14T09:44:29.306346Z",
     "shell.execute_reply": "2020-11-14T09:44:29.305654Z"
    },
    "papermill": {
     "duration": 0.141024,
     "end_time": "2020-11-14T09:44:29.306481",
     "exception": false,
     "start_time": "2020-11-14T09:44:29.165457",
     "status": "completed"
    },
    "tags": []
   },
   "outputs": [
    {
     "data": {
      "text/html": [
       "<div>\n",
       "<style scoped>\n",
       "    .dataframe tbody tr th:only-of-type {\n",
       "        vertical-align: middle;\n",
       "    }\n",
       "\n",
       "    .dataframe tbody tr th {\n",
       "        vertical-align: top;\n",
       "    }\n",
       "\n",
       "    .dataframe thead th {\n",
       "        text-align: right;\n",
       "    }\n",
       "</style>\n",
       "<table border=\"1\" class=\"dataframe\">\n",
       "  <thead>\n",
       "    <tr style=\"text-align: right;\">\n",
       "      <th></th>\n",
       "      <th>CreditScore</th>\n",
       "      <th>Age</th>\n",
       "      <th>Tenure</th>\n",
       "      <th>Balance</th>\n",
       "      <th>NumOfProducts</th>\n",
       "      <th>HasCrCard</th>\n",
       "      <th>IsActiveMember</th>\n",
       "      <th>EstimatedSalary</th>\n",
       "      <th>Exited</th>\n",
       "      <th>NewTenure</th>\n",
       "      <th>NewCreditsScore</th>\n",
       "      <th>NewAgeScore</th>\n",
       "      <th>NewBalanceScore</th>\n",
       "      <th>NewEstSalaryScore</th>\n",
       "      <th>Gender_Male</th>\n",
       "      <th>Geography_Germany</th>\n",
       "      <th>Geography_Spain</th>\n",
       "    </tr>\n",
       "    <tr>\n",
       "      <th>RowNumber</th>\n",
       "      <th></th>\n",
       "      <th></th>\n",
       "      <th></th>\n",
       "      <th></th>\n",
       "      <th></th>\n",
       "      <th></th>\n",
       "      <th></th>\n",
       "      <th></th>\n",
       "      <th></th>\n",
       "      <th></th>\n",
       "      <th></th>\n",
       "      <th></th>\n",
       "      <th></th>\n",
       "      <th></th>\n",
       "      <th></th>\n",
       "      <th></th>\n",
       "      <th></th>\n",
       "    </tr>\n",
       "  </thead>\n",
       "  <tbody>\n",
       "    <tr>\n",
       "      <th>1</th>\n",
       "      <td>-0.246</td>\n",
       "      <td>0.417</td>\n",
       "      <td>-0.75</td>\n",
       "      <td>-0.761</td>\n",
       "      <td>1</td>\n",
       "      <td>1</td>\n",
       "      <td>1</td>\n",
       "      <td>0.012</td>\n",
       "      <td>1</td>\n",
       "      <td>-0.217</td>\n",
       "      <td>3</td>\n",
       "      <td>6</td>\n",
       "      <td>1</td>\n",
       "      <td>6</td>\n",
       "      <td>0</td>\n",
       "      <td>0</td>\n",
       "      <td>0</td>\n",
       "    </tr>\n",
       "    <tr>\n",
       "      <th>2</th>\n",
       "      <td>-0.328</td>\n",
       "      <td>0.333</td>\n",
       "      <td>-1.00</td>\n",
       "      <td>-0.105</td>\n",
       "      <td>1</td>\n",
       "      <td>0</td>\n",
       "      <td>1</td>\n",
       "      <td>0.126</td>\n",
       "      <td>0</td>\n",
       "      <td>-0.279</td>\n",
       "      <td>2</td>\n",
       "      <td>6</td>\n",
       "      <td>3</td>\n",
       "      <td>6</td>\n",
       "      <td>0</td>\n",
       "      <td>0</td>\n",
       "      <td>1</td>\n",
       "    </tr>\n",
       "    <tr>\n",
       "      <th>3</th>\n",
       "      <td>-1.119</td>\n",
       "      <td>0.417</td>\n",
       "      <td>0.75</td>\n",
       "      <td>0.489</td>\n",
       "      <td>3</td>\n",
       "      <td>1</td>\n",
       "      <td>0</td>\n",
       "      <td>0.140</td>\n",
       "      <td>1</td>\n",
       "      <td>0.164</td>\n",
       "      <td>1</td>\n",
       "      <td>6</td>\n",
       "      <td>5</td>\n",
       "      <td>6</td>\n",
       "      <td>0</td>\n",
       "      <td>0</td>\n",
       "      <td>0</td>\n",
       "    </tr>\n",
       "    <tr>\n",
       "      <th>4</th>\n",
       "      <td>0.351</td>\n",
       "      <td>0.167</td>\n",
       "      <td>-1.00</td>\n",
       "      <td>-0.761</td>\n",
       "      <td>2</td>\n",
       "      <td>0</td>\n",
       "      <td>0</td>\n",
       "      <td>-0.065</td>\n",
       "      <td>0</td>\n",
       "      <td>-0.276</td>\n",
       "      <td>5</td>\n",
       "      <td>5</td>\n",
       "      <td>1</td>\n",
       "      <td>5</td>\n",
       "      <td>0</td>\n",
       "      <td>0</td>\n",
       "      <td>0</td>\n",
       "    </tr>\n",
       "    <tr>\n",
       "      <th>5</th>\n",
       "      <td>1.478</td>\n",
       "      <td>0.500</td>\n",
       "      <td>-0.75</td>\n",
       "      <td>0.222</td>\n",
       "      <td>1</td>\n",
       "      <td>1</td>\n",
       "      <td>1</td>\n",
       "      <td>-0.215</td>\n",
       "      <td>0</td>\n",
       "      <td>-0.220</td>\n",
       "      <td>6</td>\n",
       "      <td>6</td>\n",
       "      <td>4</td>\n",
       "      <td>4</td>\n",
       "      <td>0</td>\n",
       "      <td>0</td>\n",
       "      <td>1</td>\n",
       "    </tr>\n",
       "  </tbody>\n",
       "</table>\n",
       "</div>"
      ],
      "text/plain": [
       "           CreditScore    Age  Tenure  Balance  NumOfProducts  HasCrCard  \\\n",
       "RowNumber                                                                  \n",
       "1               -0.246  0.417   -0.75   -0.761              1          1   \n",
       "2               -0.328  0.333   -1.00   -0.105              1          0   \n",
       "3               -1.119  0.417    0.75    0.489              3          1   \n",
       "4                0.351  0.167   -1.00   -0.761              2          0   \n",
       "5                1.478  0.500   -0.75    0.222              1          1   \n",
       "\n",
       "           IsActiveMember  EstimatedSalary  Exited  NewTenure NewCreditsScore  \\\n",
       "RowNumber                                                                       \n",
       "1                       1            0.012       1     -0.217               3   \n",
       "2                       1            0.126       0     -0.279               2   \n",
       "3                       0            0.140       1      0.164               1   \n",
       "4                       0           -0.065       0     -0.276               5   \n",
       "5                       1           -0.215       0     -0.220               6   \n",
       "\n",
       "          NewAgeScore NewBalanceScore NewEstSalaryScore  Gender_Male  \\\n",
       "RowNumber                                                              \n",
       "1                   6               1                 6            0   \n",
       "2                   6               3                 6            0   \n",
       "3                   6               5                 6            0   \n",
       "4                   5               1                 5            0   \n",
       "5                   6               4                 4            0   \n",
       "\n",
       "           Geography_Germany  Geography_Spain  \n",
       "RowNumber                                      \n",
       "1                          0                0  \n",
       "2                          0                1  \n",
       "3                          0                0  \n",
       "4                          0                0  \n",
       "5                          0                1  "
      ]
     },
     "execution_count": 56,
     "metadata": {},
     "output_type": "execute_result"
    }
   ],
   "source": [
    "df.head()"
   ]
  },
  {
   "cell_type": "markdown",
   "metadata": {
    "papermill": {
     "duration": 0.108284,
     "end_time": "2020-11-14T09:44:29.525739",
     "exception": false,
     "start_time": "2020-11-14T09:44:29.417455",
     "status": "completed"
    },
    "tags": []
   },
   "source": [
    "# 3- Modeling"
   ]
  },
  {
   "cell_type": "code",
   "execution_count": 57,
   "metadata": {
    "execution": {
     "iopub.execute_input": "2020-11-14T09:44:29.759407Z",
     "iopub.status.busy": "2020-11-14T09:44:29.758236Z",
     "iopub.status.idle": "2020-11-14T09:45:39.496712Z",
     "shell.execute_reply": "2020-11-14T09:45:39.497961Z"
    },
    "papermill": {
     "duration": 69.863355,
     "end_time": "2020-11-14T09:45:39.498194",
     "exception": false,
     "start_time": "2020-11-14T09:44:29.634839",
     "status": "completed"
    },
    "tags": []
   },
   "outputs": [
    {
     "name": "stdout",
     "output_type": "stream",
     "text": [
      "LR: 0.823800 (0.009304)\n",
      "KNN: 0.819600 (0.010268)\n",
      "CART: 0.784700 (0.010460)\n",
      "RF: 0.861400 (0.008947)\n",
      "SVR: 0.846900 (0.010114)\n",
      "GB: 0.864600 (0.009656)\n",
      "LightGBM: 0.862500 (0.008992)\n"
     ]
    }
   ],
   "source": [
    "X = df.drop(\"Exited\",axis=1)\n",
    "y = df[\"Exited\"]\n",
    "# Train-Test Separation\n",
    "X_train, X_test, y_train, y_test = train_test_split(X, y, test_size=0.20, random_state=12345)\n",
    "# Models for Classification\n",
    "models = [('LR', LogisticRegression(random_state=123456)),\n",
    "          ('KNN', KNeighborsClassifier()),\n",
    "          ('CART', DecisionTreeClassifier(random_state=123456)),\n",
    "          ('RF', RandomForestClassifier(random_state=123456)),\n",
    "          ('SVR', SVC(gamma='auto',random_state=123456)),\n",
    "          ('GB', GradientBoostingClassifier(random_state = 12345)),\n",
    "          (\"LightGBM\", LGBMClassifier(random_state=123456))]\n",
    "results = []\n",
    "names = []\n",
    "for name, model in models:\n",
    "    kfold = KFold(n_splits=10, random_state=123456)\n",
    "    cv_results = cross_val_score(model, X, y, cv=kfold)\n",
    "    results.append(cv_results)\n",
    "    names.append(name)\n",
    "    msg = \"%s: %f (%f)\" % (name, cv_results.mean(), cv_results.std())\n",
    "    print(msg)"
   ]
  },
  {
   "cell_type": "code",
   "execution_count": 58,
   "metadata": {
    "execution": {
     "iopub.execute_input": "2020-11-14T09:45:39.768459Z",
     "iopub.status.busy": "2020-11-14T09:45:39.765271Z",
     "iopub.status.idle": "2020-11-14T09:45:41.290509Z",
     "shell.execute_reply": "2020-11-14T09:45:41.291072Z"
    },
    "papermill": {
     "duration": 1.652364,
     "end_time": "2020-11-14T09:45:41.291270",
     "exception": false,
     "start_time": "2020-11-14T09:45:39.638906",
     "status": "completed"
    },
    "tags": []
   },
   "outputs": [
    {
     "data": {
      "text/plain": [
       "array([[1520,  230],\n",
       "       [  53,  197]])"
      ]
     },
     "execution_count": 58,
     "metadata": {},
     "output_type": "execute_result"
    }
   ],
   "source": [
    "# GB Confusion Matrix\n",
    "model_GB = GradientBoostingClassifier(random_state=12345)\n",
    "model_GB.fit(X_train, y_train)\n",
    "y_pred = model_GB.predict(X_test)\n",
    "conf_mat = confusion_matrix(y_pred,y_test)\n",
    "conf_mat"
   ]
  },
  {
   "cell_type": "code",
   "execution_count": 59,
   "metadata": {
    "execution": {
     "iopub.execute_input": "2020-11-14T09:45:41.533174Z",
     "iopub.status.busy": "2020-11-14T09:45:41.532074Z",
     "iopub.status.idle": "2020-11-14T09:45:41.538244Z",
     "shell.execute_reply": "2020-11-14T09:45:41.537287Z"
    },
    "papermill": {
     "duration": 0.132659,
     "end_time": "2020-11-14T09:45:41.538409",
     "exception": false,
     "start_time": "2020-11-14T09:45:41.405750",
     "status": "completed"
    },
    "tags": []
   },
   "outputs": [
    {
     "name": "stdout",
     "output_type": "stream",
     "text": [
      "True Positive :  197\n",
      "True Negative :  1520\n",
      "False Positive:  230\n",
      "False Negative:  53\n"
     ]
    }
   ],
   "source": [
    "print(\"True Positive : \", conf_mat[1, 1])\n",
    "print(\"True Negative : \", conf_mat[0, 0])\n",
    "print(\"False Positive: \", conf_mat[0, 1])\n",
    "print(\"False Negative: \", conf_mat[1, 0])"
   ]
  },
  {
   "cell_type": "code",
   "execution_count": 60,
   "metadata": {
    "execution": {
     "iopub.execute_input": "2020-11-14T09:45:41.803189Z",
     "iopub.status.busy": "2020-11-14T09:45:41.802428Z",
     "iopub.status.idle": "2020-11-14T09:45:41.823392Z",
     "shell.execute_reply": "2020-11-14T09:45:41.824199Z"
    },
    "papermill": {
     "duration": 0.16913,
     "end_time": "2020-11-14T09:45:41.824398",
     "exception": false,
     "start_time": "2020-11-14T09:45:41.655268",
     "status": "completed"
    },
    "tags": []
   },
   "outputs": [
    {
     "name": "stdout",
     "output_type": "stream",
     "text": [
      "              precision    recall  f1-score   support\n",
      "\n",
      "           0       0.97      0.87      0.91      1750\n",
      "           1       0.46      0.79      0.58       250\n",
      "\n",
      "    accuracy                           0.86      2000\n",
      "   macro avg       0.71      0.83      0.75      2000\n",
      "weighted avg       0.90      0.86      0.87      2000\n",
      "\n"
     ]
    }
   ],
   "source": [
    "# Classification Report for XGB Model\n",
    "print(classification_report(model_GB.predict(X_test),y_test))"
   ]
  },
  {
   "cell_type": "code",
   "execution_count": 61,
   "metadata": {
    "execution": {
     "iopub.execute_input": "2020-11-14T09:45:42.131035Z",
     "iopub.status.busy": "2020-11-14T09:45:42.130271Z",
     "iopub.status.idle": "2020-11-14T09:45:42.132878Z",
     "shell.execute_reply": "2020-11-14T09:45:42.133463Z"
    },
    "papermill": {
     "duration": 0.150827,
     "end_time": "2020-11-14T09:45:42.133612",
     "exception": false,
     "start_time": "2020-11-14T09:45:41.982785",
     "status": "completed"
    },
    "tags": []
   },
   "outputs": [],
   "source": [
    "# Auc Roc Curve\n",
    "def generate_auc_roc_curve(clf, X_test):\n",
    "    y_pred_proba = clf.predict_proba(X_test)[:, 1]\n",
    "    fpr, tpr, thresholds = roc_curve(y_test,  y_pred_proba)\n",
    "    auc = roc_auc_score(y_test, y_pred_proba)\n",
    "    plt.plot(fpr,tpr,label=\"AUC ROC Curve with Area Under the curve =\"+str(auc))\n",
    "    plt.legend(loc=4)\n",
    "    plt.show()\n",
    "    pass"
   ]
  },
  {
   "cell_type": "code",
   "execution_count": 62,
   "metadata": {
    "execution": {
     "iopub.execute_input": "2020-11-14T09:45:42.370446Z",
     "iopub.status.busy": "2020-11-14T09:45:42.369680Z",
     "iopub.status.idle": "2020-11-14T09:45:42.563253Z",
     "shell.execute_reply": "2020-11-14T09:45:42.562503Z"
    },
    "papermill": {
     "duration": 0.316733,
     "end_time": "2020-11-14T09:45:42.563385",
     "exception": false,
     "start_time": "2020-11-14T09:45:42.246652",
     "status": "completed"
    },
    "tags": []
   },
   "outputs": [
    {
     "data": {
      "image/png": "[encoded data removed]",
      "text/plain": [
       "<Figure size 432x288 with 1 Axes>"
      ]
     },
     "metadata": {
      "image/png": {
       "height": 248,
       "width": 392
      },
      "needs_background": "light"
     },
     "output_type": "display_data"
    }
   ],
   "source": [
    "generate_auc_roc_curve(model_GB, X_test)"
   ]
  },
  {
   "cell_type": "markdown",
   "metadata": {
    "papermill": {
     "duration": 0.12033,
     "end_time": "2020-11-14T09:45:42.800356",
     "exception": false,
     "start_time": "2020-11-14T09:45:42.680026",
     "status": "completed"
    },
    "tags": []
   },
   "source": [
    "# 4- Model Tuning"
   ]
  },
  {
   "cell_type": "code",
   "execution_count": 63,
   "metadata": {
    "execution": {
     "iopub.execute_input": "2020-11-14T09:45:43.038490Z",
     "iopub.status.busy": "2020-11-14T09:45:43.037697Z",
     "iopub.status.idle": "2020-11-14T09:45:43.700071Z",
     "shell.execute_reply": "2020-11-14T09:45:43.700802Z"
    },
    "papermill": {
     "duration": 0.784132,
     "end_time": "2020-11-14T09:45:43.700989",
     "exception": false,
     "start_time": "2020-11-14T09:45:42.916857",
     "status": "completed"
    },
    "tags": []
   },
   "outputs": [],
   "source": [
    "# LightGBM: \n",
    "lgb_model = LGBMClassifier()\n",
    "# Model Tuning\n",
    "lgbm_params = {'colsample_bytree': 0.5,\n",
    " 'learning_rate': 0.01,\n",
    " 'max_depth': 6,\n",
    " 'n_estimators': 500}\n",
    "\n",
    "lgbm_tuned = LGBMClassifier(**lgbm_params).fit(X, y)"
   ]
  },
  {
   "cell_type": "code",
   "execution_count": 64,
   "metadata": {
    "execution": {
     "iopub.execute_input": "2020-11-14T09:45:43.999472Z",
     "iopub.status.busy": "2020-11-14T09:45:43.998715Z",
     "iopub.status.idle": "2020-11-14T09:45:47.587045Z",
     "shell.execute_reply": "2020-11-14T09:45:47.586400Z"
    },
    "papermill": {
     "duration": 3.738891,
     "end_time": "2020-11-14T09:45:47.587229",
     "exception": false,
     "start_time": "2020-11-14T09:45:43.848338",
     "status": "completed"
    },
    "tags": []
   },
   "outputs": [],
   "source": [
    "#Let's choose the highest 4 models\n",
    "# GBM\n",
    "gbm_model = GradientBoostingClassifier()\n",
    "# Model Tuning\n",
    "gbm_params = {'learning_rate': 0.1, 'max_depth': 3, 'n_estimators': 200, 'subsample': 1}\n",
    "gbm_tuned = GradientBoostingClassifier(**gbm_params).fit(X,y)"
   ]
  },
  {
   "cell_type": "code",
   "execution_count": 65,
   "metadata": {
    "execution": {
     "iopub.execute_input": "2020-11-14T09:45:47.828781Z",
     "iopub.status.busy": "2020-11-14T09:45:47.827649Z",
     "iopub.status.idle": "2020-11-14T09:46:27.944018Z",
     "shell.execute_reply": "2020-11-14T09:46:27.944902Z"
    },
    "papermill": {
     "duration": 40.242219,
     "end_time": "2020-11-14T09:46:27.945115",
     "exception": false,
     "start_time": "2020-11-14T09:45:47.702896",
     "status": "completed"
    },
    "tags": []
   },
   "outputs": [
    {
     "name": "stdout",
     "output_type": "stream",
     "text": [
      "LightGBM: 0.867300 (0.009798)\n",
      "GB: 0.866900 (0.008514)\n"
     ]
    }
   ],
   "source": [
    "# evaluate each model in turn\n",
    "models = [(\"LightGBM\", lgbm_tuned),\n",
    "          (\"GB\",gbm_tuned)]\n",
    "results = []\n",
    "names = []\n",
    "for name, model in models:\n",
    "    kfold = KFold(n_splits=10, random_state=123456)\n",
    "    cv_results = cross_val_score(model, X, y, cv=10, scoring=\"accuracy\")\n",
    "    results.append(cv_results)\n",
    "    names.append(name)\n",
    "    msg = \"%s: %f (%f)\" % (name, cv_results.mean(), cv_results.std())\n",
    "    print(msg)"
   ]
  },
  {
   "cell_type": "code",
   "execution_count": 66,
   "metadata": {
    "execution": {
     "iopub.execute_input": "2020-11-14T09:46:28.192450Z",
     "iopub.status.busy": "2020-11-14T09:46:28.191669Z",
     "iopub.status.idle": "2020-11-14T09:46:32.363890Z",
     "shell.execute_reply": "2020-11-14T09:46:32.363326Z"
    },
    "papermill": {
     "duration": 4.299208,
     "end_time": "2020-11-14T09:46:32.364015",
     "exception": false,
     "start_time": "2020-11-14T09:46:28.064807",
     "status": "completed"
    },
    "tags": []
   },
   "outputs": [
    {
     "data": {
      "image/png": "[encoded data removed]",
      "text/plain": [
       "<Figure size 432x288 with 1 Axes>"
      ]
     },
     "metadata": {
      "image/png": {
       "height": 278,
       "width": 476
      },
      "needs_background": "light"
     },
     "output_type": "display_data"
    },
    {
     "data": {
      "image/png": "[encoded data removed]",
      "text/plain": [
       "<Figure size 432x288 with 1 Axes>"
      ]
     },
     "metadata": {
      "image/png": {
       "height": 278,
       "width": 476
      },
      "needs_background": "light"
     },
     "output_type": "display_data"
    }
   ],
   "source": [
    "for name, model in models:\n",
    "        base = model.fit(X_train,y_train)\n",
    "        y_pred = base.predict(X_test)\n",
    "        acc_score = accuracy_score(y_test, y_pred)\n",
    "        feature_imp = pd.Series(base.feature_importances_,\n",
    "                        index=X.columns).sort_values(ascending=False)\n",
    "\n",
    "        sns.barplot(x=feature_imp, y=feature_imp.index)\n",
    "        plt.xlabel('Değişken Önem Skorları')\n",
    "        plt.ylabel('Değişkenler')\n",
    "        plt.title(name)\n",
    "        plt.show()"
   ]
  },
  {
   "cell_type": "markdown",
   "metadata": {
    "papermill": {
     "duration": 0.119457,
     "end_time": "2020-11-14T09:46:32.604450",
     "exception": false,
     "start_time": "2020-11-14T09:46:32.484993",
     "status": "completed"
    },
    "tags": []
   },
   "source": [
    "Report\n",
    "\n",
    "1) Churn Data Set read.\n",
    "\n",
    "2) With Exploratory Data Analysis\n",
    "\n",
    "4) During Model Buildingost\n",
    "\n",
    "5) The model created as a result of LightGBM hyperparameter optimization (AUC 0.87)"
   ]
  }
 ],
 "metadata": {
  "kernelspec": {
   "display_name": "Python 3",
   "language": "python",
   "name": "python3"
  },
  "language_info": {
   "codemirror_mode": {
    "name": "ipython",
    "version": 3
   },
   "file_extension": ".py",
   "mimetype": "text/x-python",
   "name": "python",
   "nbconvert_exporter": "python",
   "pygments_lexer": "ipython3",
   "version": "3.7.6"
  },
  "papermill": {
   "duration": 148.680871,
   "end_time": "2020-11-14T09:46:32.835020",
   "environment_variables": {},
   "exception": null,
   "input_path": "__notebook__.ipynb",
   "output_path": "__notebook__.ipynb",
   "parameters": {},
   "start_time": "2020-11-14T09:44:04.154149",
   "version": "2.1.0"
  }
 },
 "nbformat": 4,
 "nbformat_minor": 4
}
